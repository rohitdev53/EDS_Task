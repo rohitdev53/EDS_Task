{
 "cells": [
  {
   "cell_type": "markdown",
   "id": "c2543227",
   "metadata": {},
   "source": [
    "# Matrikel Nr. - 411817 \n",
    "# Name - Rohit Dev "
   ]
  },
  {
   "cell_type": "markdown",
   "id": "f5806fdb",
   "metadata": {},
   "source": [
    "## Task: A static visualization of the Covid cases of 3 countries (Poland, Germany & India)"
   ]
  },
  {
   "cell_type": "markdown",
   "id": "dcd522bc",
   "metadata": {},
   "source": [
    "## Figure 1: The relative cases overtime of Covid infectors (absolut Covid cases/population size)"
   ]
  },
  {
   "cell_type": "code",
   "execution_count": null,
   "id": "627123d6",
   "metadata": {},
   "outputs": [],
   "source": [
    "import pandas as pd\n",
    "import numpy as np\n",
    "\n",
    "from datetime import datetime\n",
    "import plotly.graph_objects as go\n",
    "from plotly.subplots import make_subplots\n",
    "import plotly\n",
    "\n",
    "import plotly.io as pio\n",
    "\n",
    "import os\n",
    "\n",
    "%matplotlib inline\n",
    "\n",
    "pd.set_option('display.max_rows', 500)"
   ]
  },
  {
   "cell_type": "markdown",
   "id": "0df60388",
   "metadata": {},
   "source": [
    "### Data Source: Our World in data (csv Data)\n",
    "* https://covid.ourworldindata.org/data/owid-covid-data.csv"
   ]
  },
  {
   "cell_type": "code",
   "execution_count": null,
   "id": "abc8a9a8",
   "metadata": {},
   "outputs": [],
   "source": [
    "owid_data_path='../data/raw/owid-covid-data.csv'\n",
    "pd_raw_owid=pd.read_csv(owid_data_path)"
   ]
  },
  {
   "cell_type": "code",
   "execution_count": null,
   "id": "d81d6dc6",
   "metadata": {},
   "outputs": [],
   "source": [
    "pd_raw_owid"
   ]
  },
  {
   "cell_type": "code",
   "execution_count": null,
   "id": "f284e067",
   "metadata": {
    "scrolled": false
   },
   "outputs": [],
   "source": [
    "pol = pd_raw_owid[pd_raw_owid['location']=='Poland']\n",
    "ger = pd_raw_owid[pd_raw_owid['location']=='Germany']\n",
    "ind = pd_raw_owid[pd_raw_owid['location']=='India']"
   ]
  },
  {
   "cell_type": "code",
   "execution_count": null,
   "id": "2bd8b46d",
   "metadata": {},
   "outputs": [],
   "source": [
    "## Poland\n",
    "pol_x=pol['date']\n",
    "pol_cases=pol['total_cases']\n",
    "pol_pop=pol['population']\n",
    "pol_res=pol_cases/pol_pop\n",
    "\n",
    "## Germany\n",
    "ger_x=ger['date']\n",
    "ger_cases=ger['total_cases']\n",
    "ger_pop=ger['population']\n",
    "ger_res=ger_cases/ger_pop\n",
    "\n",
    "## India\n",
    "ind_x=ind['date']\n",
    "ind_cases=ind['total_cases']\n",
    "ind_pop=ind['population']\n",
    "ind_res=ind_cases/ind_pop\n"
   ]
  },
  {
   "cell_type": "code",
   "execution_count": null,
   "id": "f7625337",
   "metadata": {},
   "outputs": [],
   "source": [
    "fig1 = go.Figure()\n",
    "\n",
    "fig1 = make_subplots()\n",
    "fig1.add_trace(go.Scatter(x=pol_x,\n",
    "                                y=pol_res,\n",
    "                                mode='markers+lines',\n",
    "                                opacity=0.9,\n",
    "                                line_width=2,\n",
    "                                marker_size=2, \n",
    "                                name='Poland')\n",
    "                     )\n",
    "fig1.add_trace(go.Scatter(x=ger_x,\n",
    "                                y=ger_res,\n",
    "                                mode='markers+lines',\n",
    "                                opacity=0.9,\n",
    "                                line_width=2,\n",
    "                                marker_size=2, \n",
    "                                name='Germany')\n",
    "                     )\n",
    "fig1.add_trace(go.Scatter(x=ind_x,\n",
    "                                y=ind_res,\n",
    "                                mode='markers+lines',\n",
    "                                opacity=0.9,\n",
    "                                line_width=2,\n",
    "                                marker_size=2, \n",
    "                                name='India')\n",
    "                     )\n",
    "\n",
    "## defines the overall layout properties\n",
    "fig1.update_layout(\n",
    "    width=1000,\n",
    "    height=900,\n",
    "    xaxis_title=\"Time Period\",\n",
    "    yaxis_title=\"Absolute Covid cases/population size\",\n",
    ")\n",
    "\n",
    "\n",
    "fig1.update_layout(xaxis_rangeslider_visible=True)\n",
    "fig1.show()"
   ]
  },
  {
   "cell_type": "markdown",
   "id": "67bc83ab",
   "metadata": {},
   "source": []
  },
  {
   "cell_type": "markdown",
   "id": "feff59b5",
   "metadata": {},
   "source": [
    "## Figure 2: The vaccination rate (percentage of the population) over time"
   ]
  },
  {
   "cell_type": "code",
   "execution_count": null,
   "id": "1b20087e",
   "metadata": {},
   "outputs": [],
   "source": [
    "def vac(country_name):\n",
    "    data = pd_raw_owid[pd_raw_owid['location']==country_name]\n",
    "    x=data['date']\n",
    "    pop=data['population']\n",
    "    tot_vac_rate=data['people_fully_vaccinated']\n",
    "    return tot_vac_rate/pop*100, data['date']"
   ]
  },
  {
   "cell_type": "code",
   "execution_count": null,
   "id": "767957d8",
   "metadata": {},
   "outputs": [],
   "source": [
    "def add_graph(country_name):\n",
    "    y,x = vac(country_name)\n",
    "    fig2.add_trace(go.Scatter(x=x,\n",
    "                            y=y,\n",
    "                            mode='markers+lines',\n",
    "                            opacity=0.9,\n",
    "                            line_width=2,\n",
    "                            marker_size=2, \n",
    "                            name=country_name))"
   ]
  },
  {
   "cell_type": "code",
   "execution_count": null,
   "id": "6ff338b0",
   "metadata": {},
   "outputs": [],
   "source": [
    "fig2 = go.Figure()\n",
    "\n",
    "fig2 = make_subplots()\n",
    "add_graph('Poland')\n",
    "add_graph('Germany')\n",
    "add_graph('India')\n",
    "\n",
    "## defines the overall layout properties\n",
    "fig2.update_layout(\n",
    "    width=1000,\n",
    "    height=900,\n",
    "    xaxis_title=\"Time Period\",\n",
    "    yaxis_title=\"Total vaccination rate percentage over population\",\n",
    ")\n",
    "\n",
    "\n",
    "fig2.update_layout(xaxis_rangeslider_visible=True)\n",
    "fig2.show()"
   ]
  }
 ],
 "metadata": {
  "kernelspec": {
   "display_name": "Python 3 (ipykernel)",
   "language": "python",
   "name": "python3"
  },
  "language_info": {
   "codemirror_mode": {
    "name": "ipython",
    "version": 3
   },
   "file_extension": ".py",
   "mimetype": "text/x-python",
   "name": "python",
   "nbconvert_exporter": "python",
   "pygments_lexer": "ipython3",
   "version": "3.10.0"
  }
 },
 "nbformat": 4,
 "nbformat_minor": 5
}
