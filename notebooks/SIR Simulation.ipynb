{
 "cells": [
  {
   "cell_type": "markdown",
   "id": "3484aeb4",
   "metadata": {},
   "source": [
    "# SIR Simulation"
   ]
  },
  {
   "cell_type": "markdown",
   "id": "7469ba9c",
   "metadata": {},
   "source": [
    "## Name: Rohit Dev"
   ]
  },
  {
   "cell_type": "code",
   "execution_count": null,
   "id": "3cc930fd",
   "metadata": {},
   "outputs": [],
   "source": [
    "# Import libraries\n",
    "import pandas as pd \n",
    "import numpy as np\n",
    "import matplotlib.pyplot as plt\n",
    "import matplotlib as mpl\n",
    "import seaborn as sns\n",
    "import missingno as msno\n",
    "import plotly.graph_objects as go\n",
    "\n",
    "from datetime import datetime"
   ]
  },
  {
   "cell_type": "code",
   "execution_count": null,
   "id": "3d3b19f2",
   "metadata": {},
   "outputs": [],
   "source": [
    "%matplotlib inline\n",
    "sns.set(style='darkgrid')\n",
    "mpl.rcParams['figure.figsize'] = (16,9)\n",
    "pd.set_option('display.max_rows', 500)"
   ]
  },
  {
   "cell_type": "code",
   "execution_count": null,
   "id": "08a5be1d",
   "metadata": {},
   "outputs": [],
   "source": [
    "# SIR Model is being for shown 3 countries\n",
    "country_list = ['Germany', 'India', 'Spain']"
   ]
  },
  {
   "cell_type": "code",
   "execution_count": null,
   "id": "b5423c92",
   "metadata": {},
   "outputs": [],
   "source": [
    "# Import raw data\n",
    "raw_data=pd.read_csv('../data/raw/owid-covid-data.csv')"
   ]
  },
  {
   "cell_type": "code",
   "execution_count": null,
   "id": "db31adfd",
   "metadata": {
    "scrolled": true
   },
   "outputs": [],
   "source": [
    "# display raw data\n",
    "raw_data.head()"
   ]
  },
  {
   "cell_type": "code",
   "execution_count": null,
   "id": "eb7064a7",
   "metadata": {},
   "outputs": [],
   "source": [
    "# Store the country list\n",
    "country_list = raw_data['location'].unique()"
   ]
  },
  {
   "cell_type": "code",
   "execution_count": null,
   "id": "4125f55c",
   "metadata": {},
   "outputs": [],
   "source": [
    "# Import the processed data\n",
    "data_analysis = pd.read_csv('../data/processed/processed_data.csv')\n",
    "data_analysis.set_index(['date'], inplace=True)"
   ]
  },
  {
   "cell_type": "code",
   "execution_count": null,
   "id": "c742d8c1",
   "metadata": {},
   "outputs": [],
   "source": [
    "# Sort the infected cases for all countries in separate data frame\n",
    "data_infected= pd.DataFrame(data_analysis.index)\n",
    "data_infected.set_index(['date'], inplace=True)"
   ]
  },
  {
   "cell_type": "code",
   "execution_count": null,
   "id": "15133ee0",
   "metadata": {},
   "outputs": [],
   "source": [
    "for each in country_list:\n",
    "    data_infected[each] = pd.DataFrame(data_analysis[each])"
   ]
  },
  {
   "cell_type": "code",
   "execution_count": null,
   "id": "d5275c99",
   "metadata": {},
   "outputs": [],
   "source": [
    "data_infected.tail()"
   ]
  },
  {
   "cell_type": "code",
   "execution_count": null,
   "id": "1fc04672",
   "metadata": {},
   "outputs": [],
   "source": [
    "# Parameters\n",
    "\n",
    "N0 = 83408554.0 # Population size Germany\n",
    "beta = 0.4\n",
    "gamma = 0.1  # 1(gamma) Person can infect 4(beta) people\n",
    "\n",
    "I0 = data_infected.Germany[100]   # Initial infected size\n",
    "S0 = N0-I0  # Population prone to infection\n",
    "R0 = 0  # Initial recovered size"
   ]
  },
  {
   "cell_type": "code",
   "execution_count": null,
   "id": "066e35f4",
   "metadata": {},
   "outputs": [],
   "source": [
    "# SIR Function\n",
    "def SIR_model(SIR, beta, gamma):\n",
    "    ''' Simple SIR model\n",
    "        S: susceptible population\n",
    "        I: infected people\n",
    "        R: recovered people\n",
    "        beta:\n",
    "        \n",
    "        overall condition is that the sum of changes (differences) sum up to 0\n",
    "        dS+dI+dR=0\n",
    "        S+I+R = N (constant size of population)\n",
    "    '''\n",
    "    \n",
    "    S,I,R = SIR\n",
    "    dS_dt = -beta*S*I/N0\n",
    "    dI_dt = beta*S*I/N0-gamma*I\n",
    "    dR_dt = gamma*I\n",
    "    return ([dS_dt, dI_dt, dR_dt])"
   ]
  },
  {
   "cell_type": "code",
   "execution_count": null,
   "id": "c0118343",
   "metadata": {},
   "outputs": [],
   "source": [
    "SIR = np.array([S0,I0,R0])\n",
    "propagation_rates = pd.DataFrame(columns={'susceptible':S0, 'infected':I0, 'recovered':R0})\n",
    "\n",
    "for each_t in np.arange(300): # calculation for 300 days\n",
    "#for each_t in np.arange(len(data_infected)):\n",
    "    new_delta_vec = SIR_model(SIR, beta, gamma)\n",
    "    SIR = SIR+new_delta_vec\n",
    "    propagation_rates = propagation_rates.append({'susceptible':SIR[0], 'infected':SIR[1], 'recovered':SIR[2]}, ignore_index=True)"
   ]
  },
  {
   "cell_type": "code",
   "execution_count": null,
   "id": "bad64424",
   "metadata": {},
   "outputs": [],
   "source": [
    "propagation_rates # For Germany"
   ]
  },
  {
   "cell_type": "code",
   "execution_count": null,
   "id": "d8873fc4",
   "metadata": {},
   "outputs": [],
   "source": [
    "fig, ax1 = plt.subplots(1,1)\n",
    "\n",
    "ax1.plot(propagation_rates.index, propagation_rates.infected, label = 'infected', color = 'red')\n",
    "ax1.plot(propagation_rates.index, propagation_rates.susceptible, label = 'susceptible', color = 'green')\n",
    "ax1.plot(propagation_rates.index, propagation_rates.recovered, label = 'recovered', color = 'blue')\n",
    "\n",
    "\n",
    "ax1.set_yscale('linear')\n",
    "\n",
    "ax1.set_title('Scenario SIR simulations for Germany', size = 16)\n",
    "ax1.set_xlabel('time in days', size = 16)\n",
    "ax1.legend(loc = 'best', prop={'size':16})"
   ]
  },
  {
   "cell_type": "markdown",
   "id": "300178cb",
   "metadata": {},
   "source": [
    "# End"
   ]
  }
 ],
 "metadata": {
  "kernelspec": {
   "display_name": "Python 3 (ipykernel)",
   "language": "python",
   "name": "python3"
  },
  "language_info": {
   "codemirror_mode": {
    "name": "ipython",
    "version": 3
   },
   "file_extension": ".py",
   "mimetype": "text/x-python",
   "name": "python",
   "nbconvert_exporter": "python",
   "pygments_lexer": "ipython3",
   "version": "3.10.0"
  }
 },
 "nbformat": 4,
 "nbformat_minor": 5
}
