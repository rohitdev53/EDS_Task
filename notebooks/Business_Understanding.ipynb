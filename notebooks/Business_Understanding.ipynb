{
 "cells": [
  {
   "cell_type": "code",
   "execution_count": 2,
   "id": "0500bdd3",
   "metadata": {},
   "outputs": [
    {
     "name": "stdout",
     "output_type": "stream",
     "text": [
      " Datentr„ger in Laufwerk C: ist Windows\n",
      " Volumeseriennummer: 288A-281E\n",
      "\n",
      " Verzeichnis von C:\\Users\\DigiBau\\Desktop\\Enterprise Data Science\n",
      "\n",
      "09.06.2022  20:35    <DIR>          .\n",
      "09.06.2022  18:16    <DIR>          ..\n",
      "09.06.2022  20:33    <DIR>          .ipynb_checkpoints\n",
      "09.06.2022  18:20        58.542.927 Hands-On Machine Learning with Scikit-Learn, Keras, and TensorFlow, 2nd Edition (Aurelien Geron [G‚ron, Aur‚lien]) (z-lib.org).pdf\n",
      "09.06.2022  18:18        13.128.747 Python for Data Analysis Data Wrangling with Pandas, NumPy, and IPython (Wes McKinney) (z-lib.org).pdf\n",
      "09.06.2022  20:35           330.284 stages_EDS.png\n",
      "09.06.2022  20:35               603 Untitled.ipynb\n",
      "               4 Datei(en),     72.002.561 Bytes\n",
      "               3 Verzeichnis(se), 742.868.451.328 Bytes frei\n"
     ]
    }
   ],
   "source": [
    "!dir"
   ]
  },
  {
   "cell_type": "markdown",
   "id": "4536d8db",
   "metadata": {},
   "source": [
    "![Stages_EDS](stages_EDS.png)"
   ]
  },
  {
   "cell_type": "markdown",
   "id": "c2543227",
   "metadata": {},
   "source": [
    "# Business Understanding"
   ]
  },
  {
   "cell_type": "markdown",
   "id": "e0371fc9",
   "metadata": {},
   "source": [
    "We would like to track Corona Virus spread across countries and with persocal local information\n",
    "\n",
    "The general information is not so relevant for me I would like to have a deep dive local development of the spread"
   ]
  },
  {
   "cell_type": "code",
   "execution_count": null,
   "id": "0ccdff27",
   "metadata": {},
   "outputs": [],
   "source": [
    "    "
   ]
  },
  {
   "cell_type": "markdown",
   "id": "c12851ac",
   "metadata": {},
   "source": [
    "## Goals"
   ]
  },
  {
   "cell_type": "markdown",
   "id": "95453dfd",
   "metadata": {},
   "source": [
    "* we would like to understand the data quality\n",
    "* everything should be automated as much as possible:\n",
    "    how many click do we need to execute the full pipeline"
   ]
  },
  {
   "cell_type": "markdown",
   "id": "2a584b67",
   "metadata": {},
   "source": [
    "## Contraints:"
   ]
  },
  {
   "cell_type": "markdown",
   "id": "aab6f275",
   "metadata": {},
   "source": [
    "* Each notebook should be left clean and ready for full execution"
   ]
  },
  {
   "cell_type": "code",
   "execution_count": null,
   "id": "8ab747e7",
   "metadata": {},
   "outputs": [],
   "source": []
  }
 ],
 "metadata": {
  "kernelspec": {
   "display_name": "Python 3 (ipykernel)",
   "language": "python",
   "name": "python3"
  },
  "language_info": {
   "codemirror_mode": {
    "name": "ipython",
    "version": 3
   },
   "file_extension": ".py",
   "mimetype": "text/x-python",
   "name": "python",
   "nbconvert_exporter": "python",
   "pygments_lexer": "ipython3",
   "version": "3.10.0"
  }
 },
 "nbformat": 4,
 "nbformat_minor": 5
}
