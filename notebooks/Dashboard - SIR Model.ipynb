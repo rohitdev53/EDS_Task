{
 "cells": [
  {
   "cell_type": "markdown",
   "id": "3484aeb4",
   "metadata": {},
   "source": [
    "# Dashboard - SIR Model"
   ]
  },
  {
   "cell_type": "markdown",
   "id": "7469ba9c",
   "metadata": {},
   "source": [
    "## Name: Rohit Dev"
   ]
  },
  {
   "cell_type": "code",
   "execution_count": 1,
   "id": "3cc930fd",
   "metadata": {},
   "outputs": [],
   "source": [
    "# Import libraries\n",
    "import pandas as pd \n",
    "import numpy as np\n",
    "import matplotlib.pyplot as plt\n",
    "import matplotlib as mpl\n",
    "import seaborn as sns\n",
    "import missingno as msno\n",
    "import plotly.graph_objects as go\n",
    "\n",
    "from datetime import datetime"
   ]
  },
  {
   "cell_type": "code",
   "execution_count": 2,
   "id": "3d3b19f2",
   "metadata": {},
   "outputs": [],
   "source": [
    "%matplotlib inline\n",
    "sns.set(style='darkgrid')\n",
    "mpl.rcParams['figure.figsize'] = (16,9)\n",
    "pd.set_option('display.max_rows', 500)"
   ]
  },
  {
   "cell_type": "code",
   "execution_count": 3,
   "id": "08a5be1d",
   "metadata": {},
   "outputs": [],
   "source": [
    "# SIR Model is being for shown 3 countries\n",
    "country_list = ['Germany', 'India', 'Spain']"
   ]
  },
  {
   "cell_type": "code",
   "execution_count": 4,
   "id": "b5423c92",
   "metadata": {},
   "outputs": [],
   "source": [
    "# Import raw data\n",
    "raw_data=pd.read_csv('../data/raw/owid-covid-data.csv')"
   ]
  },
  {
   "cell_type": "code",
   "execution_count": 5,
   "id": "db31adfd",
   "metadata": {},
   "outputs": [
    {
     "data": {
      "text/html": [
       "<div>\n",
       "<style scoped>\n",
       "    .dataframe tbody tr th:only-of-type {\n",
       "        vertical-align: middle;\n",
       "    }\n",
       "\n",
       "    .dataframe tbody tr th {\n",
       "        vertical-align: top;\n",
       "    }\n",
       "\n",
       "    .dataframe thead th {\n",
       "        text-align: right;\n",
       "    }\n",
       "</style>\n",
       "<table border=\"1\" class=\"dataframe\">\n",
       "  <thead>\n",
       "    <tr style=\"text-align: right;\">\n",
       "      <th></th>\n",
       "      <th>iso_code</th>\n",
       "      <th>continent</th>\n",
       "      <th>location</th>\n",
       "      <th>date</th>\n",
       "      <th>total_cases</th>\n",
       "      <th>new_cases</th>\n",
       "      <th>new_cases_smoothed</th>\n",
       "      <th>total_deaths</th>\n",
       "      <th>new_deaths</th>\n",
       "      <th>new_deaths_smoothed</th>\n",
       "      <th>...</th>\n",
       "      <th>female_smokers</th>\n",
       "      <th>male_smokers</th>\n",
       "      <th>handwashing_facilities</th>\n",
       "      <th>hospital_beds_per_thousand</th>\n",
       "      <th>life_expectancy</th>\n",
       "      <th>human_development_index</th>\n",
       "      <th>excess_mortality_cumulative_absolute</th>\n",
       "      <th>excess_mortality_cumulative</th>\n",
       "      <th>excess_mortality</th>\n",
       "      <th>excess_mortality_cumulative_per_million</th>\n",
       "    </tr>\n",
       "  </thead>\n",
       "  <tbody>\n",
       "    <tr>\n",
       "      <th>0</th>\n",
       "      <td>AFG</td>\n",
       "      <td>Asia</td>\n",
       "      <td>Afghanistan</td>\n",
       "      <td>2020-02-24</td>\n",
       "      <td>5.0</td>\n",
       "      <td>5.0</td>\n",
       "      <td>NaN</td>\n",
       "      <td>NaN</td>\n",
       "      <td>NaN</td>\n",
       "      <td>NaN</td>\n",
       "      <td>...</td>\n",
       "      <td>NaN</td>\n",
       "      <td>NaN</td>\n",
       "      <td>37.746</td>\n",
       "      <td>0.5</td>\n",
       "      <td>64.83</td>\n",
       "      <td>0.511</td>\n",
       "      <td>NaN</td>\n",
       "      <td>NaN</td>\n",
       "      <td>NaN</td>\n",
       "      <td>NaN</td>\n",
       "    </tr>\n",
       "    <tr>\n",
       "      <th>1</th>\n",
       "      <td>AFG</td>\n",
       "      <td>Asia</td>\n",
       "      <td>Afghanistan</td>\n",
       "      <td>2020-02-25</td>\n",
       "      <td>5.0</td>\n",
       "      <td>0.0</td>\n",
       "      <td>NaN</td>\n",
       "      <td>NaN</td>\n",
       "      <td>NaN</td>\n",
       "      <td>NaN</td>\n",
       "      <td>...</td>\n",
       "      <td>NaN</td>\n",
       "      <td>NaN</td>\n",
       "      <td>37.746</td>\n",
       "      <td>0.5</td>\n",
       "      <td>64.83</td>\n",
       "      <td>0.511</td>\n",
       "      <td>NaN</td>\n",
       "      <td>NaN</td>\n",
       "      <td>NaN</td>\n",
       "      <td>NaN</td>\n",
       "    </tr>\n",
       "    <tr>\n",
       "      <th>2</th>\n",
       "      <td>AFG</td>\n",
       "      <td>Asia</td>\n",
       "      <td>Afghanistan</td>\n",
       "      <td>2020-02-26</td>\n",
       "      <td>5.0</td>\n",
       "      <td>0.0</td>\n",
       "      <td>NaN</td>\n",
       "      <td>NaN</td>\n",
       "      <td>NaN</td>\n",
       "      <td>NaN</td>\n",
       "      <td>...</td>\n",
       "      <td>NaN</td>\n",
       "      <td>NaN</td>\n",
       "      <td>37.746</td>\n",
       "      <td>0.5</td>\n",
       "      <td>64.83</td>\n",
       "      <td>0.511</td>\n",
       "      <td>NaN</td>\n",
       "      <td>NaN</td>\n",
       "      <td>NaN</td>\n",
       "      <td>NaN</td>\n",
       "    </tr>\n",
       "    <tr>\n",
       "      <th>3</th>\n",
       "      <td>AFG</td>\n",
       "      <td>Asia</td>\n",
       "      <td>Afghanistan</td>\n",
       "      <td>2020-02-27</td>\n",
       "      <td>5.0</td>\n",
       "      <td>0.0</td>\n",
       "      <td>NaN</td>\n",
       "      <td>NaN</td>\n",
       "      <td>NaN</td>\n",
       "      <td>NaN</td>\n",
       "      <td>...</td>\n",
       "      <td>NaN</td>\n",
       "      <td>NaN</td>\n",
       "      <td>37.746</td>\n",
       "      <td>0.5</td>\n",
       "      <td>64.83</td>\n",
       "      <td>0.511</td>\n",
       "      <td>NaN</td>\n",
       "      <td>NaN</td>\n",
       "      <td>NaN</td>\n",
       "      <td>NaN</td>\n",
       "    </tr>\n",
       "    <tr>\n",
       "      <th>4</th>\n",
       "      <td>AFG</td>\n",
       "      <td>Asia</td>\n",
       "      <td>Afghanistan</td>\n",
       "      <td>2020-02-28</td>\n",
       "      <td>5.0</td>\n",
       "      <td>0.0</td>\n",
       "      <td>NaN</td>\n",
       "      <td>NaN</td>\n",
       "      <td>NaN</td>\n",
       "      <td>NaN</td>\n",
       "      <td>...</td>\n",
       "      <td>NaN</td>\n",
       "      <td>NaN</td>\n",
       "      <td>37.746</td>\n",
       "      <td>0.5</td>\n",
       "      <td>64.83</td>\n",
       "      <td>0.511</td>\n",
       "      <td>NaN</td>\n",
       "      <td>NaN</td>\n",
       "      <td>NaN</td>\n",
       "      <td>NaN</td>\n",
       "    </tr>\n",
       "  </tbody>\n",
       "</table>\n",
       "<p>5 rows × 67 columns</p>\n",
       "</div>"
      ],
      "text/plain": [
       "  iso_code continent     location        date  total_cases  new_cases  \\\n",
       "0      AFG      Asia  Afghanistan  2020-02-24          5.0        5.0   \n",
       "1      AFG      Asia  Afghanistan  2020-02-25          5.0        0.0   \n",
       "2      AFG      Asia  Afghanistan  2020-02-26          5.0        0.0   \n",
       "3      AFG      Asia  Afghanistan  2020-02-27          5.0        0.0   \n",
       "4      AFG      Asia  Afghanistan  2020-02-28          5.0        0.0   \n",
       "\n",
       "   new_cases_smoothed  total_deaths  new_deaths  new_deaths_smoothed  ...  \\\n",
       "0                 NaN           NaN         NaN                  NaN  ...   \n",
       "1                 NaN           NaN         NaN                  NaN  ...   \n",
       "2                 NaN           NaN         NaN                  NaN  ...   \n",
       "3                 NaN           NaN         NaN                  NaN  ...   \n",
       "4                 NaN           NaN         NaN                  NaN  ...   \n",
       "\n",
       "   female_smokers  male_smokers  handwashing_facilities  \\\n",
       "0             NaN           NaN                  37.746   \n",
       "1             NaN           NaN                  37.746   \n",
       "2             NaN           NaN                  37.746   \n",
       "3             NaN           NaN                  37.746   \n",
       "4             NaN           NaN                  37.746   \n",
       "\n",
       "   hospital_beds_per_thousand  life_expectancy  human_development_index  \\\n",
       "0                         0.5            64.83                    0.511   \n",
       "1                         0.5            64.83                    0.511   \n",
       "2                         0.5            64.83                    0.511   \n",
       "3                         0.5            64.83                    0.511   \n",
       "4                         0.5            64.83                    0.511   \n",
       "\n",
       "   excess_mortality_cumulative_absolute  excess_mortality_cumulative  \\\n",
       "0                                   NaN                          NaN   \n",
       "1                                   NaN                          NaN   \n",
       "2                                   NaN                          NaN   \n",
       "3                                   NaN                          NaN   \n",
       "4                                   NaN                          NaN   \n",
       "\n",
       "   excess_mortality  excess_mortality_cumulative_per_million  \n",
       "0               NaN                                      NaN  \n",
       "1               NaN                                      NaN  \n",
       "2               NaN                                      NaN  \n",
       "3               NaN                                      NaN  \n",
       "4               NaN                                      NaN  \n",
       "\n",
       "[5 rows x 67 columns]"
      ]
     },
     "execution_count": 5,
     "metadata": {},
     "output_type": "execute_result"
    }
   ],
   "source": [
    "# display raw data\n",
    "raw_data.head()"
   ]
  },
  {
   "cell_type": "code",
   "execution_count": 6,
   "id": "e4eb7c49",
   "metadata": {
    "scrolled": false
   },
   "outputs": [
    {
     "data": {
      "text/plain": [
       "Index(['iso_code', 'continent', 'location', 'date', 'total_cases', 'new_cases',\n",
       "       'new_cases_smoothed', 'total_deaths', 'new_deaths',\n",
       "       'new_deaths_smoothed', 'total_cases_per_million',\n",
       "       'new_cases_per_million', 'new_cases_smoothed_per_million',\n",
       "       'total_deaths_per_million', 'new_deaths_per_million',\n",
       "       'new_deaths_smoothed_per_million', 'reproduction_rate', 'icu_patients',\n",
       "       'icu_patients_per_million', 'hosp_patients',\n",
       "       'hosp_patients_per_million', 'weekly_icu_admissions',\n",
       "       'weekly_icu_admissions_per_million', 'weekly_hosp_admissions',\n",
       "       'weekly_hosp_admissions_per_million', 'total_tests', 'new_tests',\n",
       "       'total_tests_per_thousand', 'new_tests_per_thousand',\n",
       "       'new_tests_smoothed', 'new_tests_smoothed_per_thousand',\n",
       "       'positive_rate', 'tests_per_case', 'tests_units', 'total_vaccinations',\n",
       "       'people_vaccinated', 'people_fully_vaccinated', 'total_boosters',\n",
       "       'new_vaccinations', 'new_vaccinations_smoothed',\n",
       "       'total_vaccinations_per_hundred', 'people_vaccinated_per_hundred',\n",
       "       'people_fully_vaccinated_per_hundred', 'total_boosters_per_hundred',\n",
       "       'new_vaccinations_smoothed_per_million',\n",
       "       'new_people_vaccinated_smoothed',\n",
       "       'new_people_vaccinated_smoothed_per_hundred', 'stringency_index',\n",
       "       'population', 'population_density', 'median_age', 'aged_65_older',\n",
       "       'aged_70_older', 'gdp_per_capita', 'extreme_poverty',\n",
       "       'cardiovasc_death_rate', 'diabetes_prevalence', 'female_smokers',\n",
       "       'male_smokers', 'handwashing_facilities', 'hospital_beds_per_thousand',\n",
       "       'life_expectancy', 'human_development_index',\n",
       "       'excess_mortality_cumulative_absolute', 'excess_mortality_cumulative',\n",
       "       'excess_mortality', 'excess_mortality_cumulative_per_million'],\n",
       "      dtype='object')"
      ]
     },
     "execution_count": 6,
     "metadata": {},
     "output_type": "execute_result"
    }
   ],
   "source": [
    "# raw_data columns list\n",
    "raw_data.columns"
   ]
  },
  {
   "cell_type": "code",
   "execution_count": 7,
   "id": "c8819c0f",
   "metadata": {},
   "outputs": [],
   "source": [
    "# Sorting of required data from raw data  \n",
    "data_sort = raw_data[['date', 'location','total_cases', 'population']]"
   ]
  },
  {
   "cell_type": "code",
   "execution_count": 8,
   "id": "d7b6a111",
   "metadata": {},
   "outputs": [],
   "source": [
    "# Changing column names\n",
    "data_sort = data_sort.rename(columns={'location':'country', 'total_cases':'infected'})"
   ]
  },
  {
   "cell_type": "code",
   "execution_count": 9,
   "id": "adcb9dfe",
   "metadata": {
    "scrolled": true
   },
   "outputs": [
    {
     "data": {
      "text/html": [
       "<div>\n",
       "<style scoped>\n",
       "    .dataframe tbody tr th:only-of-type {\n",
       "        vertical-align: middle;\n",
       "    }\n",
       "\n",
       "    .dataframe tbody tr th {\n",
       "        vertical-align: top;\n",
       "    }\n",
       "\n",
       "    .dataframe thead th {\n",
       "        text-align: right;\n",
       "    }\n",
       "</style>\n",
       "<table border=\"1\" class=\"dataframe\">\n",
       "  <thead>\n",
       "    <tr style=\"text-align: right;\">\n",
       "      <th></th>\n",
       "      <th>date</th>\n",
       "      <th>country</th>\n",
       "      <th>infected</th>\n",
       "      <th>population</th>\n",
       "    </tr>\n",
       "  </thead>\n",
       "  <tbody>\n",
       "    <tr>\n",
       "      <th>0</th>\n",
       "      <td>2020-02-24</td>\n",
       "      <td>Afghanistan</td>\n",
       "      <td>5.0</td>\n",
       "      <td>40099462.0</td>\n",
       "    </tr>\n",
       "    <tr>\n",
       "      <th>1</th>\n",
       "      <td>2020-02-25</td>\n",
       "      <td>Afghanistan</td>\n",
       "      <td>5.0</td>\n",
       "      <td>40099462.0</td>\n",
       "    </tr>\n",
       "    <tr>\n",
       "      <th>2</th>\n",
       "      <td>2020-02-26</td>\n",
       "      <td>Afghanistan</td>\n",
       "      <td>5.0</td>\n",
       "      <td>40099462.0</td>\n",
       "    </tr>\n",
       "    <tr>\n",
       "      <th>3</th>\n",
       "      <td>2020-02-27</td>\n",
       "      <td>Afghanistan</td>\n",
       "      <td>5.0</td>\n",
       "      <td>40099462.0</td>\n",
       "    </tr>\n",
       "    <tr>\n",
       "      <th>4</th>\n",
       "      <td>2020-02-28</td>\n",
       "      <td>Afghanistan</td>\n",
       "      <td>5.0</td>\n",
       "      <td>40099462.0</td>\n",
       "    </tr>\n",
       "  </tbody>\n",
       "</table>\n",
       "</div>"
      ],
      "text/plain": [
       "         date      country  infected  population\n",
       "0  2020-02-24  Afghanistan       5.0  40099462.0\n",
       "1  2020-02-25  Afghanistan       5.0  40099462.0\n",
       "2  2020-02-26  Afghanistan       5.0  40099462.0\n",
       "3  2020-02-27  Afghanistan       5.0  40099462.0\n",
       "4  2020-02-28  Afghanistan       5.0  40099462.0"
      ]
     },
     "execution_count": 9,
     "metadata": {},
     "output_type": "execute_result"
    }
   ],
   "source": [
    "data_sort.head()"
   ]
  },
  {
   "cell_type": "code",
   "execution_count": null,
   "id": "e052a5df",
   "metadata": {},
   "outputs": [],
   "source": []
  },
  {
   "cell_type": "code",
   "execution_count": 10,
   "id": "94bc1412",
   "metadata": {},
   "outputs": [],
   "source": [
    "# Changing date format\n",
    "date_idx = [datetime.strptime(each, '%Y-%m-%d') for each in data_sort.date]\n",
    "data_sort['date'] = date_idx"
   ]
  },
  {
   "cell_type": "code",
   "execution_count": 11,
   "id": "d2d1fe64",
   "metadata": {},
   "outputs": [],
   "source": [
    "df_processed = pd.DataFrame(data_sort['date'])"
   ]
  },
  {
   "cell_type": "code",
   "execution_count": 12,
   "id": "4bcf8780",
   "metadata": {},
   "outputs": [],
   "source": [
    "df_processed = pd.DataFrame(df_processed['date'].unique())"
   ]
  },
  {
   "cell_type": "code",
   "execution_count": 13,
   "id": "efb7ad40",
   "metadata": {},
   "outputs": [],
   "source": [
    "df_processed.rename(columns={0:'date'}, inplace=True)"
   ]
  },
  {
   "cell_type": "code",
   "execution_count": 14,
   "id": "78eebd2f",
   "metadata": {},
   "outputs": [],
   "source": [
    "df_processed.sort_values(by='date', inplace=True)"
   ]
  },
  {
   "cell_type": "code",
   "execution_count": 15,
   "id": "23f42d02",
   "metadata": {},
   "outputs": [],
   "source": [
    "df_processed.set_index(['date'], inplace=True)"
   ]
  },
  {
   "cell_type": "code",
   "execution_count": 16,
   "id": "061ec1d2",
   "metadata": {},
   "outputs": [],
   "source": [
    "data_sort.set_index(['date'], inplace=True)"
   ]
  },
  {
   "cell_type": "code",
   "execution_count": 17,
   "id": "51a87ad2",
   "metadata": {
    "scrolled": true
   },
   "outputs": [],
   "source": [
    "# Create a new processed data frame with country infected cases along with population size \n",
    "for each in country_list:\n",
    "    df_processed[each+'_infected'] = pd.DataFrame(data_sort[data_sort['country'] == each]['infected'])\n",
    "    df_processed[each+'_population'] = pd.DataFrame(data_sort[data_sort['country'] == each]['population'])"
   ]
  },
  {
   "cell_type": "code",
   "execution_count": 18,
   "id": "386d5b46",
   "metadata": {},
   "outputs": [
    {
     "data": {
      "text/html": [
       "<div>\n",
       "<style scoped>\n",
       "    .dataframe tbody tr th:only-of-type {\n",
       "        vertical-align: middle;\n",
       "    }\n",
       "\n",
       "    .dataframe tbody tr th {\n",
       "        vertical-align: top;\n",
       "    }\n",
       "\n",
       "    .dataframe thead th {\n",
       "        text-align: right;\n",
       "    }\n",
       "</style>\n",
       "<table border=\"1\" class=\"dataframe\">\n",
       "  <thead>\n",
       "    <tr style=\"text-align: right;\">\n",
       "      <th></th>\n",
       "      <th>Germany_infected</th>\n",
       "      <th>Germany_population</th>\n",
       "      <th>India_infected</th>\n",
       "      <th>India_population</th>\n",
       "      <th>Spain_infected</th>\n",
       "      <th>Spain_population</th>\n",
       "    </tr>\n",
       "    <tr>\n",
       "      <th>date</th>\n",
       "      <th></th>\n",
       "      <th></th>\n",
       "      <th></th>\n",
       "      <th></th>\n",
       "      <th></th>\n",
       "      <th></th>\n",
       "    </tr>\n",
       "  </thead>\n",
       "  <tbody>\n",
       "    <tr>\n",
       "      <th>2020-01-01</th>\n",
       "      <td>NaN</td>\n",
       "      <td>NaN</td>\n",
       "      <td>NaN</td>\n",
       "      <td>NaN</td>\n",
       "      <td>NaN</td>\n",
       "      <td>NaN</td>\n",
       "    </tr>\n",
       "    <tr>\n",
       "      <th>2020-01-02</th>\n",
       "      <td>NaN</td>\n",
       "      <td>NaN</td>\n",
       "      <td>NaN</td>\n",
       "      <td>NaN</td>\n",
       "      <td>NaN</td>\n",
       "      <td>NaN</td>\n",
       "    </tr>\n",
       "    <tr>\n",
       "      <th>2020-01-03</th>\n",
       "      <td>NaN</td>\n",
       "      <td>NaN</td>\n",
       "      <td>NaN</td>\n",
       "      <td>NaN</td>\n",
       "      <td>NaN</td>\n",
       "      <td>NaN</td>\n",
       "    </tr>\n",
       "    <tr>\n",
       "      <th>2020-01-04</th>\n",
       "      <td>NaN</td>\n",
       "      <td>NaN</td>\n",
       "      <td>NaN</td>\n",
       "      <td>NaN</td>\n",
       "      <td>NaN</td>\n",
       "      <td>NaN</td>\n",
       "    </tr>\n",
       "    <tr>\n",
       "      <th>2020-01-05</th>\n",
       "      <td>NaN</td>\n",
       "      <td>NaN</td>\n",
       "      <td>NaN</td>\n",
       "      <td>NaN</td>\n",
       "      <td>NaN</td>\n",
       "      <td>NaN</td>\n",
       "    </tr>\n",
       "  </tbody>\n",
       "</table>\n",
       "</div>"
      ],
      "text/plain": [
       "            Germany_infected  Germany_population  India_infected  \\\n",
       "date                                                               \n",
       "2020-01-01               NaN                 NaN             NaN   \n",
       "2020-01-02               NaN                 NaN             NaN   \n",
       "2020-01-03               NaN                 NaN             NaN   \n",
       "2020-01-04               NaN                 NaN             NaN   \n",
       "2020-01-05               NaN                 NaN             NaN   \n",
       "\n",
       "            India_population  Spain_infected  Spain_population  \n",
       "date                                                            \n",
       "2020-01-01               NaN             NaN               NaN  \n",
       "2020-01-02               NaN             NaN               NaN  \n",
       "2020-01-03               NaN             NaN               NaN  \n",
       "2020-01-04               NaN             NaN               NaN  \n",
       "2020-01-05               NaN             NaN               NaN  "
      ]
     },
     "execution_count": 18,
     "metadata": {},
     "output_type": "execute_result"
    }
   ],
   "source": [
    "df_processed.head()"
   ]
  },
  {
   "cell_type": "code",
   "execution_count": 19,
   "id": "bba4aea9",
   "metadata": {},
   "outputs": [],
   "source": [
    "# Fill 0 value in empty cells\n",
    "df_population = df_processed.fillna(0)"
   ]
  },
  {
   "cell_type": "code",
   "execution_count": 20,
   "id": "315345dd",
   "metadata": {},
   "outputs": [],
   "source": [
    "country_population_list=np.zeros(len(country_list))\n",
    "for pos, each in enumerate(country_list):\n",
    "    country_population_list[pos] = max(df_population[each+'_population'])"
   ]
  },
  {
   "cell_type": "markdown",
   "id": "c061c708",
   "metadata": {},
   "source": []
  },
  {
   "cell_type": "code",
   "execution_count": 21,
   "id": "f327da30",
   "metadata": {},
   "outputs": [],
   "source": [
    "# Import for SIR Model \n",
    "from scipy import optimize\n",
    "from scipy import integrate"
   ]
  },
  {
   "cell_type": "code",
   "execution_count": 22,
   "id": "3146c252",
   "metadata": {
    "scrolled": true
   },
   "outputs": [],
   "source": [
    "ydata_Germany = np.array(df_processed.Germany_infected[60:]) # 60 entries have been taken\n",
    "ydata_Germany = ydata_Germany.astype(int)\n",
    "t_Germany=np.arange(len(ydata_Germany))"
   ]
  },
  {
   "cell_type": "code",
   "execution_count": 23,
   "id": "afc45ab6",
   "metadata": {},
   "outputs": [
    {
     "data": {
      "text/plain": [
       "date\n",
       "2020-01-01           NaN\n",
       "2020-01-02           NaN\n",
       "2020-01-03           NaN\n",
       "2020-01-04           NaN\n",
       "2020-01-05           NaN\n",
       "                 ...    \n",
       "2022-07-23    83408554.0\n",
       "2022-07-24    83408554.0\n",
       "2022-07-25    83408554.0\n",
       "2022-07-26    83408554.0\n",
       "2022-07-27    83408554.0\n",
       "Name: Germany_population, Length: 939, dtype: float64"
      ]
     },
     "execution_count": 23,
     "metadata": {},
     "output_type": "execute_result"
    }
   ],
   "source": [
    "df_processed['Germany_population']"
   ]
  },
  {
   "cell_type": "code",
   "execution_count": 24,
   "id": "2161ac50",
   "metadata": {},
   "outputs": [],
   "source": [
    "# Parameters\n",
    "\n",
    "#N0 = country_population_list[1] # Population size\n",
    "N0 = 1000000\n",
    "beta = 0.4\n",
    "gamma = 0.1  # 1(gamma) Person can infect 4(beta) people\n",
    "\n",
    "I0 = ydata_Germany[0]   # Initial infected size\n",
    "#S0 = N0-I0  # Population prone to infection\n",
    "S0 = N0-I0\n",
    "R0 = 0  # Initial recovered size"
   ]
  },
  {
   "cell_type": "code",
   "execution_count": 25,
   "id": "832ff4ff",
   "metadata": {},
   "outputs": [
    {
     "data": {
      "text/plain": [
       "117"
      ]
     },
     "execution_count": 25,
     "metadata": {},
     "output_type": "execute_result"
    }
   ],
   "source": [
    "I0"
   ]
  },
  {
   "cell_type": "code",
   "execution_count": 26,
   "id": "34c83870",
   "metadata": {},
   "outputs": [],
   "source": [
    "# SIR Model Function\n",
    "\n",
    "def SIR_model(SIR, t, beta, gamma):\n",
    "    ''' Simple SIR model\n",
    "        S: susceptible population\n",
    "        I: infected people\n",
    "        R: recovered people\n",
    "        beta:\n",
    "        \n",
    "        overall condition is that the sum of changes (differences) sum up to 0\n",
    "        dS+dI+dR=0\n",
    "        S+I+R = N (constant size of population)\n",
    "    '''\n",
    "    \n",
    "    S,I,R = SIR\n",
    "    dS_dt = -beta*S*I/N0\n",
    "    dI_dt = beta*S*I/N0-gamma*I\n",
    "    dR_dt = gamma*I\n",
    "    return ([dS_dt, dI_dt, dR_dt])"
   ]
  },
  {
   "cell_type": "code",
   "execution_count": 27,
   "id": "869b2d79",
   "metadata": {},
   "outputs": [],
   "source": [
    "def fit_odeint(x, beta, gamma):\n",
    "    return integrate.odeint(SIR_model, (S0, I0, R0), t_Germany, args=(beta, gamma))[:,1] # we only would like to get dI"
   ]
  },
  {
   "cell_type": "code",
   "execution_count": 28,
   "id": "c86f45e7",
   "metadata": {
    "scrolled": false
   },
   "outputs": [
    {
     "data": {
      "text/plain": [
       "array([ 1.17000000e+02,  1.57924452e+02,  2.13158100e+02,  2.87699684e+02,\n",
       "        3.88290525e+02,  5.24018997e+02,  7.07132193e+02,  9.54123799e+02,\n",
       "        1.28718846e+03,  1.73615937e+03,  2.34107745e+03,  3.15557574e+03,\n",
       "        4.25129737e+03,  5.72358968e+03,  7.69871064e+03,  1.03427094e+04,\n",
       "        1.38719351e+04,  1.85646812e+04,  2.47726292e+04,  3.29293181e+04,\n",
       "        4.35506614e+04,  5.72195925e+04,  7.45438971e+04,  9.60750182e+04,\n",
       "        1.22179645e+05,  1.52869804e+05,  1.87623187e+05,  2.25256932e+05,\n",
       "        2.63934499e+05,  3.01360038e+05,  3.35140610e+05,  3.63209191e+05,\n",
       "        3.84162393e+05,  3.97408603e+05,  4.03114064e+05,  4.02012415e+05,\n",
       "        3.95168700e+05,  3.83768497e+05,  3.68965890e+05,  3.51793712e+05,\n",
       "        3.33123606e+05,  3.13659362e+05,  2.93949128e+05,  2.74406263e+05,\n",
       "        2.55332512e+05,  2.36940027e+05,  2.19370745e+05,  2.02712584e+05,\n",
       "        1.87012600e+05,  1.72287445e+05,  1.58531537e+05,  1.45723396e+05,\n",
       "        1.33830490e+05,  1.22812925e+05,  1.12626221e+05,  1.03223393e+05,\n",
       "        9.45564877e+04,  8.65777036e+04,  7.92401964e+04,  7.24986412e+04,\n",
       "        6.63096115e+04,  6.06318195e+04,  5.54262533e+04,  5.06562357e+04,\n",
       "        4.62874274e+04,  4.22877883e+04,  3.86275097e+04,  3.52789268e+04,\n",
       "        3.22164181e+04,  2.94162967e+04,  2.68566979e+04,  2.45174666e+04,\n",
       "        2.23800444e+04,  2.04273614e+04,  1.86437303e+04,  1.70147460e+04,\n",
       "        1.55271898e+04,  1.41689396e+04,  1.29288845e+04,  1.17968459e+04,\n",
       "        1.07635030e+04,  9.82032389e+03,  8.95950175e+03,  8.17389514e+03,\n",
       "        7.45697332e+03,  6.80276544e+03,  6.20581385e+03,  5.66113098e+03,\n",
       "        5.16415967e+03,  4.71073681e+03,  4.29705973e+03,  3.91965555e+03,\n",
       "        3.57535296e+03,  3.26125632e+03,  2.97472200e+03,  2.71333666e+03,\n",
       "        2.47489737e+03,  2.25739344e+03,  2.05898972e+03,  1.87801145e+03,\n",
       "        1.71293027e+03,  1.56235151e+03,  1.42500258e+03,  1.29972231e+03,\n",
       "        1.18545124e+03,  1.08122274e+03,  9.86154936e+02,  8.99443254e+02,\n",
       "        8.20353696e+02,  7.48216661e+02,  6.82421303e+02,  6.22410389e+02,\n",
       "        5.67675603e+02,  5.17753260e+02,  4.72220394e+02,  4.30691186e+02,\n",
       "        3.92813707e+02,  3.58266946e+02,  3.26758094e+02,  2.98020073e+02,\n",
       "        2.71809272e+02,  2.47903491e+02,  2.26100059e+02,  2.06214119e+02,\n",
       "        1.88077063e+02,  1.71535104e+02,  1.56447977e+02,  1.42687745e+02,\n",
       "        1.30137723e+02,  1.18691482e+02,  1.08251952e+02,  9.87305990e+01,\n",
       "        9.00466730e+01,  8.21265249e+01,  7.49029820e+01,  6.83147789e+01,\n",
       "        6.23060373e+01,  5.68257936e+01,  5.18275656e+01,  4.72689590e+01,\n",
       "        4.31113082e+01,  3.93193478e+01,  3.58609140e+01,  3.27066720e+01,\n",
       "        2.98298665e+01,  2.72060959e+01,  2.48131043e+01,  2.26305935e+01,\n",
       "        2.06400505e+01,  1.88245905e+01,  1.71688139e+01,  1.56586756e+01,\n",
       "        1.42813656e+01,  1.30252009e+01,  1.18795258e+01,  1.08346219e+01,\n",
       "        9.88162581e+00,  9.01245342e+00,  8.21973185e+00,  7.49673665e+00,\n",
       "        6.83733485e+00,  6.23593293e+00,  5.68742931e+00,  5.18717119e+00,\n",
       "        4.73091497e+00,  4.31479034e+00,  3.93526740e+00,  3.58912671e+00,\n",
       "        3.27343205e+00,  2.98550542e+00,  2.72290441e+00,  2.48340140e+00,\n",
       "        2.26496473e+00,  2.06574145e+00,  1.88404157e+00,  1.71832376e+00,\n",
       "        1.56718227e+00,  1.42933497e+00,  1.30361253e+00,  1.18894847e+00,\n",
       "        1.08437011e+00,  9.88990320e-01,  9.02000011e-01,  8.22661253e-01,\n",
       "        7.50301030e-01,  6.84305516e-01,  6.24114882e-01,  5.69218537e-01,\n",
       "        5.19150803e-01,  4.73486963e-01,  4.31839655e-01,  3.93855590e-01,\n",
       "        3.59212555e-01,  3.27616677e-01,  2.98799934e-01,  2.72517872e-01,\n",
       "        2.48547547e-01,  2.26685621e-01,  2.06746643e-01,  1.88561471e-01,\n",
       "        1.71975844e-01,  1.56849067e-01,  1.43052822e-01,  1.30470078e-01,\n",
       "        1.18994095e-01,  1.08527526e-01,  9.89815822e-02,  9.02752881e-02,\n",
       "        8.23347885e-02,  7.50927270e-02,  6.84876659e-02,  6.24635782e-02,\n",
       "        5.69693608e-02,  5.19584087e-02,  4.73882130e-02,  4.32200063e-02,\n",
       "        3.94184295e-02,  3.59512344e-02,  3.27890095e-02,  2.99049299e-02,\n",
       "        2.72745306e-02,  2.48754974e-02,  2.26874804e-02,  2.06919182e-02,\n",
       "        1.88718836e-02,  1.72119366e-02,  1.56979968e-02,  1.43172209e-02,\n",
       "        1.30578964e-02,  1.19093403e-02,  1.08618099e-02,  9.90641898e-03,\n",
       "        9.03506296e-03,  8.24035034e-03,  7.51553954e-03,  6.85448228e-03,\n",
       "        6.25157069e-03,  5.70169057e-03,  5.20017706e-03,  4.74277613e-03,\n",
       "        4.32560753e-03,  3.94513262e-03,  3.59812376e-03,  3.28163738e-03,\n",
       "        2.99298873e-03,  2.72972924e-03,  2.48962573e-03,  2.27064141e-03,\n",
       "        2.07091870e-03,  1.88876340e-03,  1.72263048e-03,  1.57111021e-03,\n",
       "        1.43291730e-03,  1.30687963e-03,  1.19192797e-03,  1.08708701e-03,\n",
       "        9.91467891e-04,  9.04259502e-04,  8.24721666e-04,  7.52180199e-04,\n",
       "        6.86019246e-04,  6.25677677e-04,  5.70643885e-04,  5.20450589e-04,\n",
       "        4.74672393e-04,  4.32920789e-04,  3.94841519e-04,  3.60111776e-04,\n",
       "        3.28436636e-04,  2.99547641e-04,  2.73199828e-04,  2.49169434e-04,\n",
       "        2.27252816e-04,  2.07263944e-04,  1.89033191e-04,  1.72406089e-04,\n",
       "        1.57241421e-04,  1.43410605e-04,  1.30796415e-04,  1.19291700e-04,\n",
       "        1.08798948e-04,  9.92291319e-05,  9.05010196e-05,  8.25406532e-05,\n",
       "        7.52804821e-05,  6.86588781e-05,  6.26197005e-05,  5.71115570e-05,\n",
       "        5.20878216e-05,  4.75061639e-05,  4.33277496e-05,  3.95170200e-05,\n",
       "        3.60415143e-05,  3.28715197e-05,  2.99804915e-05,  2.73438656e-05,\n",
       "        2.49389086e-05,  2.27451883e-05,  2.07445262e-05,  1.89198840e-05,\n",
       "        1.72555720e-05,  1.57377167e-05,  1.43535148e-05,  1.30910522e-05,\n",
       "        1.19393252e-05,  1.08892945e-05,  9.93156182e-06,  9.05795018e-06,\n",
       "        8.26121413e-06,  7.53465366e-06,  6.87198294e-06,  6.26746139e-06,\n",
       "        5.71589019e-06,  5.21261359e-06,  4.75352192e-06,  4.33504996e-06,\n",
       "        3.95369655e-06,  3.60578150e-06,  3.28842846e-06,  2.99914195e-06,\n",
       "        2.73558219e-06,  2.49513238e-06,  2.27574165e-06,  2.07563763e-06,\n",
       "        1.89192776e-06,  1.72641926e-06,  1.57480874e-06,  1.43628999e-06,\n",
       "        1.31003419e-06,  1.19497810e-06,  1.09015460e-06,  9.94645754e-07,\n",
       "        9.07533625e-07,  8.27923639e-07,  7.55384297e-07,  6.89364336e-07,\n",
       "        6.29174492e-07,  5.74125497e-07,  5.23538688e-07,  4.77272988e-07,\n",
       "        4.35156098e-07,  3.96787721e-07,  3.61767560e-07,  3.24206474e-07,\n",
       "        2.97573706e-07,  2.72577177e-07,  2.49216887e-07,  2.27492837e-07,\n",
       "        2.07405026e-07,  1.88853889e-07,  1.71717381e-07,  1.55995194e-07,\n",
       "        1.41687328e-07,  1.28793783e-07,  1.17314559e-07,  1.07092747e-07,\n",
       "        9.76767629e-08,  8.90383390e-08,  8.11774749e-08,  7.40941707e-08,\n",
       "        6.77884263e-08,  6.22179410e-08,  5.70793635e-08,  5.23128677e-08,\n",
       "        4.79184535e-08,  4.38961210e-08,  4.02458701e-08,  3.69639682e-08,\n",
       "        3.39391716e-08,  3.11196211e-08,  2.85053167e-08,  2.60962585e-08,\n",
       "        2.38924464e-08,  2.18938804e-08,  2.00640750e-08,  1.83614086e-08,\n",
       "        1.67858369e-08,  1.53373599e-08,  1.40159776e-08,  1.28216899e-08,\n",
       "        1.17411877e-08,  1.07385737e-08,  9.81185592e-09,  8.96103425e-09,\n",
       "        8.18610874e-09,  7.48707938e-09,  6.86019978e-09,  6.28066599e-09,\n",
       "        5.74393061e-09,  5.24999362e-09,  4.79885504e-09,  4.39051486e-09,\n",
       "        4.02447413e-09,  3.68801566e-09,  3.37558203e-09,  3.08717323e-09,\n",
       "        2.82278927e-09,  2.58243014e-09,  2.36609585e-09,  2.16883008e-09,\n",
       "        1.98537981e-09,  1.81574392e-09,  1.65992243e-09,  1.51791533e-09,\n",
       "        1.38972262e-09,  1.27375716e-09,  1.16600614e-09,  1.06627378e-09,\n",
       "        9.74560054e-10,  8.90864979e-10,  8.15188551e-10,  7.47114619e-10,\n",
       "        6.84093807e-10,  6.25692350e-10,  5.71910248e-10,  5.22747502e-10,\n",
       "        4.78204110e-10,  4.29976842e-10,  3.60262595e-10,  2.93343329e-10,\n",
       "        2.29219046e-10,  1.67889746e-10,  1.09355428e-10,  5.36160922e-11,\n",
       "        6.71738900e-13, -4.94776319e-11, -9.68320204e-11, -1.41391426e-10,\n",
       "       -1.83155850e-10, -2.22125291e-10, -2.58299750e-10, -2.91679226e-10,\n",
       "       -3.22263720e-10, -3.50053232e-10, -3.75047761e-10, -3.97247308e-10,\n",
       "       -4.16651872e-10, -4.33261454e-10, -4.47076053e-10, -4.58095670e-10,\n",
       "       -4.66320305e-10, -4.71749957e-10, -4.74384627e-10, -4.74224314e-10,\n",
       "       -4.71269019e-10, -4.65518742e-10, -4.56973482e-10, -4.45633240e-10,\n",
       "       -4.31498015e-10, -4.14567808e-10, -3.94842619e-10, -3.72322447e-10,\n",
       "       -3.47007292e-10, -3.19912404e-10, -3.28193550e-10, -3.35782195e-10,\n",
       "       -3.42678339e-10, -3.48881981e-10, -3.54393122e-10, -3.59211761e-10,\n",
       "       -3.63337898e-10, -3.66771534e-10, -3.69512669e-10, -3.71561302e-10,\n",
       "       -3.72917434e-10, -3.73581064e-10, -3.73552193e-10, -3.72830820e-10,\n",
       "       -3.71416946e-10, -3.69310570e-10, -3.66511692e-10, -3.63020314e-10,\n",
       "       -3.58836433e-10, -3.53960052e-10, -3.48391168e-10, -3.42129784e-10,\n",
       "       -3.35175897e-10, -3.27529510e-10, -3.19190620e-10, -3.10159230e-10,\n",
       "       -3.00435337e-10, -2.90018944e-10, -2.78910049e-10, -2.67108652e-10,\n",
       "       -2.54614754e-10, -2.41428354e-10, -2.27549453e-10, -2.12978050e-10,\n",
       "       -1.97714146e-10, -1.81757740e-10, -1.73831121e-10, -1.70075089e-10,\n",
       "       -1.66319056e-10, -1.62563024e-10, -1.58806991e-10, -1.55050959e-10,\n",
       "       -1.51294927e-10, -1.47538894e-10, -1.43782862e-10, -1.40026829e-10,\n",
       "       -1.36270797e-10, -1.32514765e-10, -1.28758732e-10, -1.25002700e-10,\n",
       "       -1.21246668e-10, -1.17490635e-10, -1.13734603e-10, -1.09978570e-10,\n",
       "       -1.06222538e-10, -1.02466506e-10, -9.87104732e-11, -9.49544409e-11,\n",
       "       -9.11984085e-11, -8.74423761e-11, -8.36863437e-11, -7.99303113e-11,\n",
       "       -7.61742789e-11, -7.24182465e-11, -6.86622141e-11, -6.49061818e-11,\n",
       "       -6.11501494e-11, -5.73941170e-11, -5.36380846e-11, -4.98820522e-11,\n",
       "       -4.61260198e-11, -4.23699874e-11, -4.07318771e-11, -4.06225326e-11,\n",
       "       -4.05131882e-11, -4.04038437e-11, -4.02944993e-11, -4.01851548e-11,\n",
       "       -4.00758104e-11, -3.99664659e-11, -3.98571215e-11, -3.97477770e-11,\n",
       "       -3.96384325e-11, -3.95290881e-11, -3.94197436e-11, -3.93103992e-11,\n",
       "       -3.92010547e-11, -3.90917103e-11, -3.89823658e-11, -3.88730214e-11,\n",
       "       -3.87636769e-11, -3.86543325e-11, -3.85449880e-11, -3.84356436e-11,\n",
       "       -3.83262991e-11, -3.82169546e-11, -3.81076102e-11, -3.79982657e-11,\n",
       "       -3.78889213e-11, -3.77795768e-11, -3.76702324e-11, -3.75608879e-11,\n",
       "       -3.74515435e-11, -3.73421990e-11, -3.72328546e-11, -3.71235101e-11,\n",
       "       -3.70141657e-11, -3.69048212e-11, -3.67954768e-11, -3.66861323e-11,\n",
       "       -3.65767878e-11, -3.64674434e-11, -3.63580989e-11, -3.62487545e-11,\n",
       "       -3.61394100e-11, -3.60300656e-11, -3.59207211e-11, -3.58113767e-11,\n",
       "       -3.57020322e-11, -3.55926878e-11, -3.54833433e-11, -3.53739989e-11,\n",
       "       -3.52646544e-11, -3.51553099e-11, -3.50459655e-11, -3.49366210e-11,\n",
       "       -3.48272766e-11, -3.47179321e-11, -3.46085877e-11, -3.44992432e-11,\n",
       "       -3.43898988e-11, -3.42805543e-11, -3.41712099e-11, -3.40618654e-11,\n",
       "       -3.39525210e-11, -3.38431765e-11, -3.37338320e-11, -3.36244876e-11,\n",
       "       -3.35151431e-11, -3.34057987e-11, -3.32964542e-11, -3.31871098e-11,\n",
       "       -3.30777653e-11, -3.29684209e-11, -3.28590764e-11, -3.27497320e-11,\n",
       "       -3.26403875e-11, -3.25310431e-11, -3.24216986e-11, -3.23123541e-11,\n",
       "       -3.22030097e-11, -3.20936652e-11, -3.19843208e-11, -3.18749763e-11,\n",
       "       -3.17656319e-11, -3.16562874e-11, -3.15469430e-11, -3.14375985e-11,\n",
       "       -3.13282541e-11, -3.12189096e-11, -3.11095652e-11, -3.10002207e-11,\n",
       "       -3.08908762e-11, -3.07815318e-11, -3.06721873e-11, -3.05628429e-11,\n",
       "       -3.04534984e-11, -3.03441540e-11, -3.02348095e-11, -3.01254651e-11,\n",
       "       -3.00161206e-11, -2.99067762e-11, -2.97974317e-11, -2.96880873e-11,\n",
       "       -2.95787428e-11, -2.94693983e-11, -2.93600539e-11, -2.92507094e-11,\n",
       "       -2.91413650e-11, -2.90320205e-11, -2.89226761e-11, -2.88133316e-11,\n",
       "       -2.87039872e-11, -2.85946427e-11, -2.84852983e-11, -2.83759538e-11,\n",
       "       -2.82666094e-11, -2.81572649e-11, -2.80479205e-11, -2.79385760e-11,\n",
       "       -2.78292315e-11, -2.77198871e-11, -2.76105426e-11, -2.75011982e-11,\n",
       "       -2.73918537e-11, -2.72825093e-11, -2.71731648e-11, -2.70638204e-11,\n",
       "       -2.69544759e-11, -2.68451315e-11, -2.67357870e-11, -2.66264426e-11,\n",
       "       -2.65170981e-11, -2.64077536e-11, -2.62984092e-11, -2.61890647e-11,\n",
       "       -2.60797203e-11, -2.59703758e-11, -2.58610314e-11, -2.57516869e-11,\n",
       "       -2.56423425e-11, -2.55329980e-11, -2.54236536e-11, -2.53143091e-11,\n",
       "       -2.52049647e-11, -2.50956202e-11, -2.49862757e-11, -2.48769313e-11,\n",
       "       -2.47675868e-11, -2.46582424e-11, -2.45488979e-11, -2.44395535e-11,\n",
       "       -2.43302090e-11, -2.42208646e-11, -2.41115201e-11, -2.40021757e-11,\n",
       "       -2.38928312e-11, -2.37834868e-11, -2.36741423e-11, -2.35647978e-11,\n",
       "       -2.34554534e-11, -2.33461089e-11, -2.32367645e-11, -2.31274200e-11,\n",
       "       -2.30180756e-11, -2.29087311e-11, -2.27993867e-11, -2.26900422e-11,\n",
       "       -2.25806978e-11, -2.24713533e-11, -2.23620089e-11, -2.22526644e-11,\n",
       "       -2.21433199e-11, -2.20339755e-11, -2.19246310e-11, -2.18152866e-11,\n",
       "       -2.17059421e-11, -2.15965977e-11, -2.14872532e-11, -2.13779088e-11,\n",
       "       -2.12685643e-11, -2.11592199e-11, -2.10498754e-11, -2.09405310e-11,\n",
       "       -2.08311865e-11, -2.07218420e-11, -2.06124976e-11, -2.05031531e-11,\n",
       "       -2.03938087e-11, -2.02844642e-11, -2.01751198e-11, -2.00657753e-11,\n",
       "       -1.99564309e-11, -1.98470864e-11, -1.97377420e-11, -1.96283975e-11,\n",
       "       -1.95190531e-11, -1.94097086e-11, -1.93003641e-11, -1.91910197e-11,\n",
       "       -1.90816752e-11, -1.89723308e-11, -1.88629863e-11, -1.87536419e-11,\n",
       "       -1.86442974e-11, -1.85349530e-11, -1.84256085e-11, -1.83162641e-11,\n",
       "       -1.82069196e-11, -1.80975752e-11, -1.79882307e-11, -1.78788863e-11,\n",
       "       -1.77695418e-11, -1.76601973e-11, -1.75508529e-11, -1.74415084e-11,\n",
       "       -1.73321640e-11, -1.72228195e-11, -1.71134751e-11, -1.70041306e-11,\n",
       "       -1.68947862e-11, -1.67854417e-11, -1.66760973e-11, -1.65667528e-11,\n",
       "       -1.64574084e-11, -1.63480639e-11, -1.62387194e-11, -1.61293750e-11,\n",
       "       -1.60200305e-11, -1.59106861e-11, -1.58013416e-11, -1.56919972e-11,\n",
       "       -1.55826527e-11, -1.54733083e-11, -1.53639638e-11, -1.52546194e-11,\n",
       "       -1.51452749e-11, -1.50359305e-11, -1.49265860e-11, -1.48172415e-11,\n",
       "       -1.47078971e-11, -1.45985526e-11, -1.44892082e-11, -1.43798637e-11,\n",
       "       -1.42705193e-11, -1.41611748e-11, -1.40518304e-11, -1.39424859e-11,\n",
       "       -1.38331415e-11, -1.37237970e-11, -1.36144526e-11, -1.35051081e-11,\n",
       "       -1.33957636e-11, -1.32864192e-11, -1.31770747e-11, -1.30677303e-11,\n",
       "       -1.29583858e-11, -1.28490414e-11, -1.27396969e-11, -1.26303525e-11,\n",
       "       -1.25210080e-11, -1.24116636e-11, -1.23023191e-11, -1.21929747e-11,\n",
       "       -1.20836302e-11, -1.19742857e-11, -1.18649413e-11, -1.17555968e-11,\n",
       "       -1.16462524e-11, -1.15369079e-11, -1.14275635e-11, -1.13182190e-11,\n",
       "       -1.12088746e-11, -1.10995301e-11, -1.09901857e-11, -1.08808412e-11,\n",
       "       -1.07714968e-11, -1.06621523e-11, -1.05528078e-11, -1.04434634e-11,\n",
       "       -1.03341189e-11, -1.02247745e-11, -1.01154300e-11, -1.00060856e-11,\n",
       "       -9.89674113e-12, -9.78739667e-12, -9.67805222e-12, -9.56870777e-12,\n",
       "       -9.45936331e-12, -9.35001886e-12, -9.24067440e-12, -9.13132995e-12,\n",
       "       -9.02198550e-12, -8.91264104e-12, -8.80329659e-12, -8.69395214e-12,\n",
       "       -8.58460768e-12, -8.47526323e-12, -8.36591877e-12, -8.25657432e-12,\n",
       "       -8.14722987e-12, -8.03788541e-12, -7.92854096e-12, -7.81919651e-12,\n",
       "       -7.70985205e-12, -7.60050760e-12, -7.49116314e-12, -7.38181869e-12,\n",
       "       -7.27247424e-12, -7.16312978e-12, -7.05378533e-12, -6.94444088e-12,\n",
       "       -6.83509642e-12, -6.72575197e-12, -6.61640751e-12, -6.50706306e-12,\n",
       "       -6.39771861e-12, -6.28837415e-12, -6.17902970e-12, -6.06968525e-12,\n",
       "       -5.96034079e-12, -5.85099634e-12, -5.74165188e-12, -5.63230743e-12,\n",
       "       -5.52296298e-12, -5.41361852e-12, -5.30427407e-12, -5.19492962e-12,\n",
       "       -5.08558516e-12, -4.97624071e-12, -4.86689625e-12, -4.75755180e-12,\n",
       "       -4.64820735e-12, -4.53886289e-12, -4.42951844e-12, -4.32017399e-12,\n",
       "       -4.21082953e-12, -4.10148508e-12, -3.99214062e-12, -3.88279617e-12,\n",
       "       -3.77345172e-12, -3.66410726e-12, -3.55476281e-12, -3.44541836e-12,\n",
       "       -3.33607390e-12, -3.22672945e-12, -3.11738499e-12, -3.00804054e-12,\n",
       "       -2.89869609e-12, -2.78935163e-12, -2.68000718e-12, -2.57066273e-12,\n",
       "       -2.46131827e-12, -2.35197382e-12, -2.24262936e-12])"
      ]
     },
     "execution_count": 28,
     "metadata": {},
     "output_type": "execute_result"
    }
   ],
   "source": [
    "popt=[0.4, 0.1]\n",
    "fit_odeint(t_Germany, *popt)"
   ]
  },
  {
   "cell_type": "code",
   "execution_count": 29,
   "id": "593f9b63",
   "metadata": {
    "scrolled": false
   },
   "outputs": [
    {
     "name": "stderr",
     "output_type": "stream",
     "text": [
      "C:\\Users\\DigiBau\\AppData\\Local\\Programs\\Python\\Python310\\lib\\site-packages\\scipy\\integrate\\_odepack_py.py:247: ODEintWarning: Excess work done on this call (perhaps wrong Dfun type). Run with full_output = 1 to get quantitative information.\n",
      "  warnings.warn(warning_msg, ODEintWarning)\n",
      "C:\\Users\\DigiBau\\AppData\\Local\\Temp\\ipykernel_8044\\2838838603.py:16: RuntimeWarning: overflow encountered in double_scalars\n",
      "  dS_dt = -beta*S*I/N0\n",
      "C:\\Users\\DigiBau\\AppData\\Local\\Temp\\ipykernel_8044\\2838838603.py:17: RuntimeWarning: overflow encountered in double_scalars\n",
      "  dI_dt = beta*S*I/N0-gamma*I\n"
     ]
    }
   ],
   "source": [
    "popt_Germany, pcov_Germany = optimize.curve_fit(fit_odeint, t_Germany, ydata_Germany)\n",
    "perr_Germany = np.sqrt(np.diag(pcov_Germany))"
   ]
  },
  {
   "cell_type": "code",
   "execution_count": 30,
   "id": "b5cc78d4",
   "metadata": {
    "scrolled": true
   },
   "outputs": [
    {
     "name": "stdout",
     "output_type": "stream",
     "text": [
      "standard deviation error:  [6.20196506e-04 5.87865159e-05] start infect: 117\n",
      "Optimal parameters: beta =  0.02495709468882617 and gamma =  -0.006001423135129758\n"
     ]
    }
   ],
   "source": [
    "print('standard deviation error: ', str(perr_Germany), 'start infect:', ydata_Germany[0])\n",
    "print('Optimal parameters: beta = ', popt_Germany[0], 'and gamma = ', popt_Germany[1])"
   ]
  },
  {
   "cell_type": "code",
   "execution_count": 31,
   "id": "e3fb0af7",
   "metadata": {},
   "outputs": [],
   "source": [
    "fitted_Germany = fit_odeint(t_Germany, *popt_Germany)"
   ]
  },
  {
   "cell_type": "code",
   "execution_count": 32,
   "id": "764dfe46",
   "metadata": {
    "scrolled": false
   },
   "outputs": [
    {
     "data": {
      "image/png": "[encoded data removed]",
      "text/plain": [
       "<Figure size 1152x648 with 1 Axes>"
      ]
     },
     "metadata": {},
     "output_type": "display_data"
    },
    {
     "name": "stdout",
     "output_type": "stream",
     "text": [
      "Optimal parameters: beta =  0.02495709468882617 and gamma =  -0.006001423135129758\n",
      "Basic Reproduction Number R0:  -4.158529423252634\n"
     ]
    }
   ],
   "source": [
    "plt.semilogy(t_Germany, ydata_Germany, 'o',color='g')\n",
    "plt.semilogy(t_Germany, fitted_Germany, color='g')\n",
    "plt.title('Fit of SIR model for Germany cases')\n",
    "plt.ylabel('Population infected')\n",
    "plt.xlabel('Days')\n",
    "plt.show()\n",
    "print('Optimal parameters: beta = ', popt_Germany[0], 'and gamma = ', popt_Germany[1])\n",
    "print('Basic Reproduction Number R0: ',popt_Germany[0]/popt_Germany[1] )"
   ]
  },
  {
   "cell_type": "markdown",
   "id": "261e7be5",
   "metadata": {},
   "source": [
    "# India"
   ]
  },
  {
   "cell_type": "code",
   "execution_count": 33,
   "id": "b4b88b87",
   "metadata": {},
   "outputs": [],
   "source": [
    "ydata_India = np.array(df_processed.India_infected[70:])\n",
    "#ydata_India = ydata_India.astype(int)\n",
    "t_India=np.arange(len(ydata_India))"
   ]
  },
  {
   "cell_type": "code",
   "execution_count": 34,
   "id": "b7086df1",
   "metadata": {},
   "outputs": [],
   "source": [
    "# Parameters\n",
    "\n",
    "#N0 = country_population_list[1] # Population size\n",
    "N0 = 10000000\n",
    "beta = 0.4\n",
    "gamma = 0.1  # 1(gamma) Person can infect 4(beta) people\n",
    "\n",
    "I0 = ydata_India[0]   # Initial infected size\n",
    "#S0 = N0-I0  # Population prone to infection\n",
    "S0 = N0-I0\n",
    "R0 = 0  # Initial recovered size"
   ]
  },
  {
   "cell_type": "code",
   "execution_count": 35,
   "id": "daa4ac6a",
   "metadata": {},
   "outputs": [
    {
     "data": {
      "text/plain": [
       "62.0"
      ]
     },
     "execution_count": 35,
     "metadata": {},
     "output_type": "execute_result"
    }
   ],
   "source": [
    "I0"
   ]
  },
  {
   "cell_type": "code",
   "execution_count": 36,
   "id": "52b951ae",
   "metadata": {},
   "outputs": [],
   "source": [
    "def fit_odeint(x, beta, gamma):\n",
    "    return integrate.odeint(SIR_model, (S0, I0, R0), t_India, args=(beta, gamma))[:,1] # we only would like to get dI"
   ]
  },
  {
   "cell_type": "code",
   "execution_count": 37,
   "id": "d409e3df",
   "metadata": {},
   "outputs": [
    {
     "data": {
      "text/plain": [
       "array([ 6.20000000e+01,  8.36909927e+01,  1.12970529e+02,  1.52493319e+02,\n",
       "        2.05842667e+02,  2.77855210e+02,  3.75059131e+02,  5.06265482e+02,\n",
       "        6.83365969e+02,  9.22409133e+02,  1.24505170e+03,  1.68051525e+03,\n",
       "        2.26822311e+03,  3.06135157e+03,  4.13160906e+03,  5.57566055e+03,\n",
       "        7.52375121e+03,  1.01512590e+04,  1.36941292e+04,  1.84694196e+04,\n",
       "        2.49025088e+04,  3.35628804e+04,  4.52107260e+04,  6.08568159e+04,\n",
       "        8.18379145e+04,  1.09909067e+05,  1.47351614e+05,  1.97090652e+05,\n",
       "        2.62806171e+05,  3.49006249e+05,  4.61006982e+05,  6.04733440e+05,\n",
       "        7.86227290e+05,  1.01074152e+06,  1.28135955e+06,  1.59724008e+06,\n",
       "        1.95186997e+06,  2.33201236e+06,  2.71813542e+06,  3.08674822e+06,\n",
       "        3.41425844e+06,  3.68114312e+06,  3.87499284e+06,  3.99155517e+06,\n",
       "        4.03384409e+06,  4.01006944e+06,  3.93128327e+06,  3.80937718e+06,\n",
       "        3.65569506e+06,  3.48025115e+06,  3.29141256e+06,  3.09588192e+06,\n",
       "        2.89884419e+06,  2.70418395e+06,  2.51471676e+06,  2.33240474e+06,\n",
       "        2.15854385e+06,  1.99391938e+06,  1.83893166e+06,  1.69369549e+06,\n",
       "        1.55811778e+06,  1.43195754e+06,  1.31487168e+06,  1.20644989e+06,\n",
       "        1.10624079e+06,  1.01377150e+06,  9.28562074e+05,  8.50135950e+05,\n",
       "        7.78027474e+05,  7.11787094e+05,  6.50984830e+05,  5.95212445e+05,\n",
       "        5.44084630e+05,  4.97239472e+05,  4.54338379e+05,  4.15065629e+05,\n",
       "        3.79127648e+05,  3.46252098e+05,  3.16186853e+05,  2.88698903e+05,\n",
       "        2.63573227e+05,  2.40611661e+05,  2.19631787e+05,  2.00465844e+05,\n",
       "        1.82959687e+05,  1.66971791e+05,  1.52372307e+05,  1.39042167e+05,\n",
       "        1.26872250e+05,  1.15762599e+05,  1.05621689e+05,  9.63657480e+04,\n",
       "        8.79181278e+04,  8.02087172e+04,  7.31734039e+04,  6.67535751e+04,\n",
       "        6.08956579e+04,  5.55506957e+04,  5.06739585e+04,  4.62245847e+04,\n",
       "        4.21652522e+04,  3.84618761e+04,  3.50833322e+04,  3.20012023e+04,\n",
       "        2.91895420e+04,  2.66246674e+04,  2.42849597e+04,  2.21506870e+04,\n",
       "        2.02038404e+04,  1.84279849e+04,  1.68081226e+04,  1.53305674e+04,\n",
       "        1.39828316e+04,  1.27535204e+04,  1.16322377e+04,  1.06094983e+04,\n",
       "        9.67664821e+03,  8.82579265e+03,  8.04972910e+03,  7.34188703e+03,\n",
       "        6.69627241e+03,  6.10741743e+03,  5.57033417e+03,  5.08047276e+03,\n",
       "        4.63368280e+03,  4.22617849e+03,  3.85450653e+03,  3.51551701e+03,\n",
       "        3.20633678e+03,  2.92434513e+03,  2.66715167e+03,  2.43257607e+03,\n",
       "        2.21862966e+03,  2.02349851e+03,  1.84552821e+03,  1.68320971e+03,\n",
       "        1.53516669e+03,  1.40014379e+03,  1.27699602e+03,  1.16467907e+03,\n",
       "        1.06224046e+03,  9.68811450e+02,  8.83599681e+02,  8.05882486e+02,\n",
       "        7.35000733e+02,  6.70353261e+02,  6.11391769e+02,  5.57616177e+02,\n",
       "        5.08570383e+02,  4.63838395e+02,  4.23040807e+02,  3.85831578e+02,\n",
       "        3.51895104e+02,  3.20943533e+02,  2.92714336e+02,  2.66968065e+02,\n",
       "        2.43486338e+02,  2.22069978e+02,  2.02537325e+02,  1.84722698e+02,\n",
       "        1.68474986e+02,  1.53656372e+02,  1.40141156e+02,  1.27814698e+02,\n",
       "        1.16572439e+02,  1.06319018e+02,  9.69674577e+01,  8.84384355e+01,\n",
       "        8.06596031e+01,  7.35649761e+01,  6.70943743e+01,  6.11929099e+01,\n",
       "        5.58105236e+01,  5.09015584e+01,  4.64243739e+01,  4.23409915e+01,\n",
       "        3.86167738e+01,  3.52201293e+01,  3.21222457e+01,  2.92968447e+01,\n",
       "        2.67199593e+01,  2.43697310e+01,  2.22262232e+01,  2.02712536e+01,\n",
       "        1.84882386e+01,  1.68620537e+01,  1.53789043e+01,  1.40262095e+01,\n",
       "        1.27924946e+01,  1.16672946e+01,  1.06410647e+01,  9.70509972e+00,\n",
       "        8.85146018e+00,  8.07290487e+00,  7.36282961e+00,  6.71521099e+00,\n",
       "        6.12455552e+00,  5.58585281e+00,  5.09453322e+00,  4.64642904e+00,\n",
       "        4.23773913e+00,  3.86499670e+00,  3.52503989e+00,  3.21498495e+00,\n",
       "        2.93220177e+00,  2.67429160e+00,  2.43906663e+00,  2.22453156e+00,\n",
       "        2.02886653e+00,  1.85041178e+00,  1.68765352e+00,  1.53921113e+00,\n",
       "        1.40382542e+00,  1.28034793e+00,  1.16773127e+00,  1.06502013e+00,\n",
       "        9.71343235e-01,  8.85905960e-01,  8.07983568e-01,  7.36915060e-01,\n",
       "        6.72097587e-01,  6.12981320e-01,  5.59064793e-01,  5.09890650e-01,\n",
       "        4.65041757e-01,  4.24137679e-01,  3.86831435e-01,  3.52806569e-01,\n",
       "        3.21774457e-01,  2.93471863e-01,  2.67658705e-01,  2.44116017e-01,\n",
       "        2.22644094e-01,  2.03060795e-01,  1.85200002e-01,  1.68910205e-01,\n",
       "        1.54053225e-01,  1.40503032e-01,  1.28144685e-01,  1.16873353e-01,\n",
       "        1.06593422e-01,  9.72176925e-02,  8.86666319e-02,  8.08677057e-02,\n",
       "        7.37547560e-02,  6.72674454e-02,  6.13507449e-02,  5.59544645e-02,\n",
       "        5.10328300e-02,  4.65440913e-02,  4.24501731e-02,  3.87163463e-02,\n",
       "        3.53109395e-02,  3.22050646e-02,  2.93723765e-02,  2.67888449e-02,\n",
       "        2.44325556e-02,  2.22835201e-02,  2.03235095e-02,  1.85358971e-02,\n",
       "        1.69055194e-02,  1.54185462e-02,  1.40623639e-02,  1.28254684e-02,\n",
       "        1.16973677e-02,  1.06684924e-02,  9.73011457e-03,  8.87427463e-03,\n",
       "        8.09371234e-03,  7.38180678e-03,  6.73251881e-03,  6.14034095e-03,\n",
       "        5.60024970e-03,  5.10766373e-03,  4.65840455e-03,  4.24866126e-03,\n",
       "        3.87495814e-03,  3.53412511e-03,  3.22327107e-03,  2.93975901e-03,\n",
       "        2.68118413e-03,  2.44535289e-03,  2.23026492e-03,  2.03409561e-03,\n",
       "        1.85518116e-03,  1.69200365e-03,  1.54317858e-03,  1.40744383e-03,\n",
       "        1.28364795e-03,  1.17074062e-03,  1.06776430e-03,  9.73845952e-04,\n",
       "        8.88188245e-04,  8.10065010e-04,  7.38813361e-04,  6.73828675e-04,\n",
       "        6.14560175e-04,  5.60504628e-04,  5.11203741e-04,  4.66239369e-04,\n",
       "        4.25229836e-04,  3.87827538e-04,  3.53714921e-04,  3.22602714e-04,\n",
       "        2.94227301e-04,  2.68347627e-04,  2.44744314e-04,  2.23217153e-04,\n",
       "        2.03583371e-04,  1.85676612e-04,  1.69344866e-04,  1.54449574e-04,\n",
       "        1.40864542e-04,  1.28474381e-04,  1.17174025e-04,  1.06867664e-04,\n",
       "        9.74677716e-05,  8.88946765e-05,  8.10757106e-05,  7.39444328e-05,\n",
       "        6.74404260e-05,  6.15083511e-05,  5.60979301e-05,  5.11635270e-05,\n",
       "        4.66634304e-05,  4.25593153e-05,  3.88162651e-05,  3.54022605e-05,\n",
       "        3.22886339e-05,  2.94490173e-05,  2.68589956e-05,  2.44964116e-05,\n",
       "        2.23417281e-05,  2.03766282e-05,  1.85842211e-05,  1.69495019e-05,\n",
       "        1.54587224e-05,  1.40990764e-05,  1.28586728e-05,  1.17278037e-05,\n",
       "        1.06963333e-05,  9.75547088e-06,  8.89738573e-06,  8.11487531e-06,\n",
       "        7.40117680e-06,  6.75011520e-06,  6.15609247e-06,  5.61409171e-06,\n",
       "        5.11968632e-06,  4.66903489e-06,  4.25830507e-06,  3.88358787e-06,\n",
       "        3.54179723e-06,  3.23025395e-06,  2.94637022e-06,  2.68736097e-06,\n",
       "        2.45104561e-06,  2.23552840e-06,  2.03795366e-06,  1.85947916e-06,\n",
       "        1.69609404e-06,  1.54690178e-06,  1.41094730e-06,  1.28704879e-06,\n",
       "        1.17417071e-06,  1.07129903e-06,  9.77419736e-07,  8.91642364e-07,\n",
       "        8.13562291e-07,  7.42463384e-07,  6.77582719e-07,  6.18157375e-07,\n",
       "        5.63576453e-07,  5.13836211e-07,  4.68546052e-07,  4.27255991e-07,\n",
       "        3.89516042e-07,  3.50818394e-07,  3.21595143e-07,  2.94241782e-07,\n",
       "        2.68758309e-07,  2.45144725e-07,  2.23356012e-07,  2.03201767e-07,\n",
       "        1.84660633e-07,  1.67732611e-07,  1.52417701e-07,  1.38715903e-07,\n",
       "        1.26583656e-07,  1.15494797e-07,  1.05294850e-07,  9.59838139e-08,\n",
       "        8.75616887e-08,  8.00284746e-08,  7.33817866e-08,  6.73480831e-08,\n",
       "        6.17406196e-08,  5.65593962e-08,  5.18044129e-08,  4.74756696e-08,\n",
       "        4.35731665e-08,  4.00267988e-08,  3.67173972e-08,  3.36429849e-08,\n",
       "        3.08035618e-08,  2.81991280e-08,  2.58296835e-08,  2.36784998e-08,\n",
       "        2.16794453e-08,  1.98257345e-08,  1.81173672e-08,  1.65543436e-08,\n",
       "        1.51366635e-08,  1.38604136e-08,  1.26827337e-08,  1.15918405e-08,\n",
       "        1.05877340e-08,  9.67041408e-09,  8.83988088e-09,  8.09586067e-09,\n",
       "        7.41543771e-09,  6.78397559e-09,  6.20147431e-09,  5.66793386e-09,\n",
       "        5.18335425e-09,  4.74773548e-09,  4.35285826e-09,  3.98563803e-09,\n",
       "        3.64590702e-09,  3.33366521e-09,  3.04891261e-09,  2.79164922e-09,\n",
       "        2.55955856e-09,  2.34407338e-09,  2.14439244e-09,  1.96051573e-09,\n",
       "        1.79244326e-09,  1.64017502e-09,  1.50322116e-09,  1.37669656e-09,\n",
       "        1.25934448e-09,  1.15116494e-09,  1.05215793e-09,  9.62323451e-10,\n",
       "        8.81623909e-10,  8.07649631e-10,  7.38959545e-10,  6.75553650e-10,\n",
       "        6.17431947e-10,  5.64594435e-10,  5.17041115e-10,  4.41900601e-10,\n",
       "        3.66175894e-10,  2.93665028e-10,  2.24368004e-10,  1.58284821e-10,\n",
       "        9.54154804e-11,  3.57599810e-11, -2.06816769e-11, -7.39094932e-11,\n",
       "       -1.23923468e-10, -1.70723601e-10, -2.14309893e-10, -2.54682343e-10,\n",
       "       -2.91840951e-10, -3.25785718e-10, -3.56516644e-10, -3.84033728e-10,\n",
       "       -4.08336970e-10, -4.29426371e-10, -4.47301930e-10, -4.61963648e-10,\n",
       "       -4.73411524e-10, -4.81645558e-10, -4.86665751e-10, -4.88472103e-10,\n",
       "       -4.87064612e-10, -4.82443281e-10, -4.74608108e-10, -4.63559093e-10,\n",
       "       -4.49296236e-10, -4.31819538e-10, -4.11128999e-10, -3.87224618e-10,\n",
       "       -3.60106395e-10, -3.40521476e-10, -3.50161223e-10, -3.58976273e-10,\n",
       "       -3.66966625e-10, -3.74132279e-10, -3.80473236e-10, -3.85989495e-10,\n",
       "       -3.90681055e-10, -3.94547918e-10, -3.97590083e-10, -3.99807551e-10,\n",
       "       -4.01200320e-10, -4.01768392e-10, -4.01511766e-10, -4.00430442e-10,\n",
       "       -3.98524420e-10, -3.95793701e-10, -3.92238283e-10, -3.87858168e-10,\n",
       "       -3.82653355e-10, -3.76623844e-10, -3.69769636e-10, -3.62090729e-10,\n",
       "       -3.53587125e-10, -3.44258823e-10, -3.34105823e-10, -3.23128125e-10,\n",
       "       -3.11325730e-10, -2.98698637e-10, -2.85246846e-10, -2.70970357e-10,\n",
       "       -2.55869170e-10, -2.39943285e-10, -2.23192703e-10, -2.05617423e-10,\n",
       "       -2.01400052e-10, -1.96912069e-10, -1.92424086e-10, -1.87936104e-10,\n",
       "       -1.83448121e-10, -1.78960138e-10, -1.74472156e-10, -1.69984173e-10,\n",
       "       -1.65496190e-10, -1.61008208e-10, -1.56520225e-10, -1.52032242e-10,\n",
       "       -1.47544260e-10, -1.43056277e-10, -1.38568294e-10, -1.34080312e-10,\n",
       "       -1.29592329e-10, -1.25104346e-10, -1.20616363e-10, -1.16128381e-10,\n",
       "       -1.11640398e-10, -1.07152415e-10, -1.02664433e-10, -9.81764500e-11,\n",
       "       -9.36884673e-11, -8.92004846e-11, -8.47125020e-11, -8.02245193e-11,\n",
       "       -7.57365366e-11, -7.12485539e-11, -6.67605712e-11, -6.22725885e-11,\n",
       "       -5.77846058e-11, -5.32966231e-11, -4.88086405e-11, -4.86112663e-11,\n",
       "       -4.84748077e-11, -4.83383491e-11, -4.82018905e-11, -4.80654319e-11,\n",
       "       -4.79289733e-11, -4.77925147e-11, -4.76560561e-11, -4.75195975e-11,\n",
       "       -4.73831389e-11, -4.72466803e-11, -4.71102217e-11, -4.69737632e-11,\n",
       "       -4.68373046e-11, -4.67008460e-11, -4.65643874e-11, -4.64279288e-11,\n",
       "       -4.62914702e-11, -4.61550116e-11, -4.60185530e-11, -4.58820944e-11,\n",
       "       -4.57456358e-11, -4.56091772e-11, -4.54727186e-11, -4.53362600e-11,\n",
       "       -4.51998014e-11, -4.50633428e-11, -4.49268842e-11, -4.47904256e-11,\n",
       "       -4.46539670e-11, -4.45175084e-11, -4.43810498e-11, -4.42445913e-11,\n",
       "       -4.41081327e-11, -4.39716741e-11, -4.38352155e-11, -4.36987569e-11,\n",
       "       -4.35622983e-11, -4.34258397e-11, -4.32893811e-11, -4.31529225e-11,\n",
       "       -4.30164639e-11, -4.28800053e-11, -4.27435467e-11, -4.26070881e-11,\n",
       "       -4.24706295e-11, -4.23341709e-11, -4.21977123e-11, -4.20612537e-11,\n",
       "       -4.19247951e-11, -4.17883365e-11, -4.16518780e-11, -4.15154194e-11,\n",
       "       -4.13789608e-11, -4.12425022e-11, -4.11060436e-11, -4.09695850e-11,\n",
       "       -4.08331264e-11, -4.06966678e-11, -4.05602092e-11, -4.04237506e-11,\n",
       "       -4.02872920e-11, -4.01508334e-11, -4.00143748e-11, -3.98779162e-11,\n",
       "       -3.97414576e-11, -3.96049990e-11, -3.94685404e-11, -3.93320818e-11,\n",
       "       -3.91956232e-11, -3.90591647e-11, -3.89227061e-11, -3.87862475e-11,\n",
       "       -3.86497889e-11, -3.85133303e-11, -3.83768717e-11, -3.82404131e-11,\n",
       "       -3.81039545e-11, -3.79674959e-11, -3.78310373e-11, -3.76945787e-11,\n",
       "       -3.75581201e-11, -3.74216615e-11, -3.72852029e-11, -3.71487443e-11,\n",
       "       -3.70122857e-11, -3.68758271e-11, -3.67393685e-11, -3.66029099e-11,\n",
       "       -3.64664513e-11, -3.63299928e-11, -3.61935342e-11, -3.60570756e-11,\n",
       "       -3.59206170e-11, -3.57841584e-11, -3.56476998e-11, -3.55112412e-11,\n",
       "       -3.53747826e-11, -3.52383240e-11, -3.51018654e-11, -3.49654068e-11,\n",
       "       -3.48289482e-11, -3.46924896e-11, -3.45560310e-11, -3.44195724e-11,\n",
       "       -3.42831138e-11, -3.41466552e-11, -3.40101966e-11, -3.38737380e-11,\n",
       "       -3.37372795e-11, -3.36008209e-11, -3.34643623e-11, -3.33279037e-11,\n",
       "       -3.31914451e-11, -3.30549865e-11, -3.29185279e-11, -3.27820693e-11,\n",
       "       -3.26456107e-11, -3.25091521e-11, -3.23726935e-11, -3.22362349e-11,\n",
       "       -3.20997763e-11, -3.19633177e-11, -3.18268591e-11, -3.16904005e-11,\n",
       "       -3.15539419e-11, -3.14174833e-11, -3.12810247e-11, -3.11445662e-11,\n",
       "       -3.10081076e-11, -3.08716490e-11, -3.07351904e-11, -3.05987318e-11,\n",
       "       -3.04622732e-11, -3.03258146e-11, -3.01893560e-11, -3.00528974e-11,\n",
       "       -2.99164388e-11, -2.97799802e-11, -2.96435216e-11, -2.95070630e-11,\n",
       "       -2.93706044e-11, -2.92341458e-11, -2.90976872e-11, -2.89612286e-11,\n",
       "       -2.88247700e-11, -2.86883114e-11, -2.85518528e-11, -2.84153943e-11,\n",
       "       -2.82789357e-11, -2.81424771e-11, -2.80060185e-11, -2.78695599e-11,\n",
       "       -2.77331013e-11, -2.75966427e-11, -2.74601841e-11, -2.73237255e-11,\n",
       "       -2.71872669e-11, -2.70508083e-11, -2.69143497e-11, -2.67778911e-11,\n",
       "       -2.66414325e-11, -2.65049739e-11, -2.63685153e-11, -2.62320567e-11,\n",
       "       -2.60955981e-11, -2.59591395e-11, -2.58226810e-11, -2.56862224e-11,\n",
       "       -2.55497638e-11, -2.54133052e-11, -2.52768466e-11, -2.51403880e-11,\n",
       "       -2.50039294e-11, -2.48674708e-11, -2.47310122e-11, -2.45945536e-11,\n",
       "       -2.44580950e-11, -2.43216364e-11, -2.41851778e-11, -2.40487192e-11,\n",
       "       -2.39122606e-11, -2.37758020e-11, -2.36393434e-11, -2.35028848e-11,\n",
       "       -2.33664262e-11, -2.32299676e-11, -2.30935091e-11, -2.29570505e-11,\n",
       "       -2.28205919e-11, -2.26841333e-11, -2.25476747e-11, -2.24112161e-11,\n",
       "       -2.22747575e-11, -2.21382989e-11, -2.20018403e-11, -2.18653817e-11,\n",
       "       -2.17289231e-11, -2.15924645e-11, -2.14560059e-11, -2.13195473e-11,\n",
       "       -2.11830887e-11, -2.10466301e-11, -2.09101715e-11, -2.07737129e-11,\n",
       "       -2.06372543e-11, -2.05007958e-11, -2.03643372e-11, -2.02278786e-11,\n",
       "       -2.00914200e-11, -1.99549614e-11, -1.98185028e-11, -1.96820442e-11,\n",
       "       -1.95455856e-11, -1.94091270e-11, -1.92726684e-11, -1.91362098e-11,\n",
       "       -1.89997512e-11, -1.88632926e-11, -1.87268340e-11, -1.85903754e-11,\n",
       "       -1.84539168e-11, -1.83174582e-11, -1.81809996e-11, -1.80445410e-11,\n",
       "       -1.79080825e-11, -1.77716239e-11, -1.76351653e-11, -1.74987067e-11,\n",
       "       -1.73622481e-11, -1.72257895e-11, -1.70893309e-11, -1.69528723e-11,\n",
       "       -1.68164137e-11, -1.66799551e-11, -1.65434965e-11, -1.64070379e-11,\n",
       "       -1.62705793e-11, -1.61341207e-11, -1.59976621e-11, -1.58612035e-11,\n",
       "       -1.57247449e-11, -1.55882863e-11, -1.54518277e-11, -1.53153691e-11,\n",
       "       -1.51789106e-11, -1.50424520e-11, -1.49059934e-11, -1.47695348e-11,\n",
       "       -1.46330762e-11, -1.44966176e-11, -1.43601590e-11, -1.42237004e-11,\n",
       "       -1.40872418e-11, -1.39507832e-11, -1.38143246e-11, -1.36778660e-11,\n",
       "       -1.35414074e-11, -1.34049488e-11, -1.32684902e-11, -1.31320316e-11,\n",
       "       -1.29955730e-11, -1.28591144e-11, -1.27226558e-11, -1.25861973e-11,\n",
       "       -1.24497387e-11, -1.23132801e-11, -1.21768215e-11, -1.20403629e-11,\n",
       "       -1.19039043e-11, -1.17674457e-11, -1.16309871e-11, -1.14945285e-11,\n",
       "       -1.13580699e-11, -1.12216113e-11, -1.10851527e-11, -1.09486941e-11,\n",
       "       -1.08122355e-11, -1.06757769e-11, -1.05393183e-11, -1.04028597e-11,\n",
       "       -1.02664011e-11, -1.01299425e-11, -9.99348395e-12, -9.85702536e-12,\n",
       "       -9.72056676e-12, -9.58410817e-12, -9.44764957e-12, -9.31119098e-12,\n",
       "       -9.17473238e-12, -9.03827379e-12, -8.90181519e-12, -8.76535660e-12,\n",
       "       -8.62889800e-12, -8.49243941e-12, -8.35598081e-12, -8.21952222e-12,\n",
       "       -8.08306362e-12, -7.94660503e-12, -7.81014643e-12, -7.67368784e-12,\n",
       "       -7.53722924e-12, -7.40077065e-12, -7.26431205e-12, -7.12785346e-12,\n",
       "       -6.99139486e-12, -6.85493627e-12, -6.71847767e-12, -6.58201908e-12,\n",
       "       -6.44556048e-12, -6.30910189e-12, -6.17264330e-12, -6.03618470e-12,\n",
       "       -5.89972611e-12])"
      ]
     },
     "execution_count": 37,
     "metadata": {},
     "output_type": "execute_result"
    }
   ],
   "source": [
    "popt=[0.4, 0.1]\n",
    "fit_odeint(t_India, *popt)"
   ]
  },
  {
   "cell_type": "code",
   "execution_count": 38,
   "id": "eb50dadc",
   "metadata": {},
   "outputs": [
    {
     "name": "stderr",
     "output_type": "stream",
     "text": [
      "C:\\Users\\DigiBau\\AppData\\Local\\Programs\\Python\\Python310\\lib\\site-packages\\scipy\\integrate\\_odepack_py.py:247: ODEintWarning: Excess work done on this call (perhaps wrong Dfun type). Run with full_output = 1 to get quantitative information.\n",
      "  warnings.warn(warning_msg, ODEintWarning)\n",
      "C:\\Users\\DigiBau\\AppData\\Local\\Temp\\ipykernel_8044\\2838838603.py:16: RuntimeWarning: overflow encountered in double_scalars\n",
      "  dS_dt = -beta*S*I/N0\n",
      "C:\\Users\\DigiBau\\AppData\\Local\\Temp\\ipykernel_8044\\2838838603.py:17: RuntimeWarning: overflow encountered in double_scalars\n",
      "  dI_dt = beta*S*I/N0-gamma*I\n",
      "C:\\Users\\DigiBau\\AppData\\Local\\Temp\\ipykernel_8044\\2838838603.py:18: RuntimeWarning: overflow encountered in double_scalars\n",
      "  dR_dt = gamma*I\n"
     ]
    }
   ],
   "source": [
    "popt_India, pcov_India = optimize.curve_fit(fit_odeint, t_India, ydata_India)\n",
    "perr_India = np.sqrt(np.diag(pcov_India))"
   ]
  },
  {
   "cell_type": "code",
   "execution_count": 39,
   "id": "c80600bc",
   "metadata": {},
   "outputs": [
    {
     "name": "stdout",
     "output_type": "stream",
     "text": [
      "standard deviation error:  [1.68901133e-03 1.95365248e-05] start infect: 62.0\n",
      "Optimal parameters: beta =  0.07097825660317537 and gamma =  -0.0024212303943521897\n"
     ]
    }
   ],
   "source": [
    "print('standard deviation error: ', str(perr_India), 'start infect:', ydata_India[0])\n",
    "print('Optimal parameters: beta = ', popt_India[0], 'and gamma = ', popt_India[1])"
   ]
  },
  {
   "cell_type": "code",
   "execution_count": 40,
   "id": "34834f32",
   "metadata": {},
   "outputs": [],
   "source": [
    "fitted_India = fit_odeint(t_India, *popt_India)"
   ]
  },
  {
   "cell_type": "code",
   "execution_count": 41,
   "id": "3ce9b443",
   "metadata": {},
   "outputs": [
    {
     "data": {
      "image/png": "[encoded data removed]",
      "text/plain": [
       "<Figure size 1152x648 with 1 Axes>"
      ]
     },
     "metadata": {},
     "output_type": "display_data"
    },
    {
     "name": "stdout",
     "output_type": "stream",
     "text": [
      "Optimal parameters: beta =  0.07097825660317537 and gamma =  -0.0024212303943521897\n",
      "Basic Reproduction Number R0:  -29.314953574323482\n"
     ]
    }
   ],
   "source": [
    "plt.semilogy(t_India, ydata_India, 'o',color='y')\n",
    "plt.semilogy(t_India, fitted_India, color='y')\n",
    "plt.title('Fit of SIR model for India cases')\n",
    "plt.ylabel('Population infected')\n",
    "plt.xlabel('Days')\n",
    "plt.show()\n",
    "print('Optimal parameters: beta = ', popt_India[0], 'and gamma = ', popt_India[1])\n",
    "print('Basic Reproduction Number R0: ',popt_India[0]/popt_India[1] )"
   ]
  },
  {
   "cell_type": "markdown",
   "id": "7a6711a0",
   "metadata": {},
   "source": [
    "# Spain"
   ]
  },
  {
   "cell_type": "code",
   "execution_count": 42,
   "id": "bedd3c72",
   "metadata": {},
   "outputs": [],
   "source": [
    "ydata_Spain = np.array(df_processed.Spain_infected[60:])\n",
    "t_Spain=np.arange(len(ydata_Spain))"
   ]
  },
  {
   "cell_type": "code",
   "execution_count": 43,
   "id": "5c9860d7",
   "metadata": {},
   "outputs": [],
   "source": [
    "# Parameters\n",
    "\n",
    "#N0 = country_population_list[1] # Population size\n",
    "N0 = 1000000\n",
    "beta = 0.4\n",
    "gamma = 0.1  # 1(gamma) Person can infect 4(beta) people\n",
    "\n",
    "I0 = ydata_Spain[0]   # Initial infected size\n",
    "#S0 = N0-I0  # Population prone to infection\n",
    "S0 = N0-I0\n",
    "R0 = 0  # Initial recovered size"
   ]
  },
  {
   "cell_type": "code",
   "execution_count": 44,
   "id": "8088d777",
   "metadata": {},
   "outputs": [
    {
     "data": {
      "text/plain": [
       "84.0"
      ]
     },
     "execution_count": 44,
     "metadata": {},
     "output_type": "execute_result"
    }
   ],
   "source": [
    "I0"
   ]
  },
  {
   "cell_type": "code",
   "execution_count": 45,
   "id": "d9f3e330",
   "metadata": {},
   "outputs": [],
   "source": [
    "def fit_odeint(x, beta, gamma):\n",
    "    return integrate.odeint(SIR_model, (S0, I0, R0), t_Spain, args=(beta, gamma))[:,1] # we only would like to get dI"
   ]
  },
  {
   "cell_type": "code",
   "execution_count": 46,
   "id": "4fb98a77",
   "metadata": {},
   "outputs": [
    {
     "data": {
      "text/plain": [
       "array([ 8.40000000e+01,  1.13383486e+02,  1.53042619e+02,  2.06568578e+02,\n",
       "        2.78805714e+02,  3.76287308e+02,  5.07821566e+02,  6.85278620e+02,\n",
       "        9.24645570e+02,  1.24743737e+03,  1.68257731e+03,  2.26889178e+03,\n",
       "        3.05839934e+03,  4.12060889e+03,  5.54806800e+03,  7.46340059e+03,\n",
       "        1.00280082e+04,  1.34524200e+04,  1.80078611e+04,  2.40378155e+04,\n",
       "        3.19669957e+04,  4.23030097e+04,  5.56231394e+04,  7.25355687e+04,\n",
       "        9.36028098e+04,  1.19218330e+05,  1.49440062e+05,  1.83809318e+05,\n",
       "        2.21215257e+05,  2.59884352e+05,  2.97554398e+05,  3.31822770e+05,\n",
       "        3.60569855e+05,  3.82311938e+05,  3.96371532e+05,  4.02842582e+05,\n",
       "        4.02410066e+05,  3.96114894e+05,  3.85138187e+05,  3.70642503e+05,\n",
       "        3.53675978e+05,  3.35127918e+05,  3.15719378e+05,  2.96013953e+05,\n",
       "        2.76438074e+05,  2.57304132e+05,  2.38832734e+05,  2.21172377e+05,\n",
       "        2.04415987e+05,  1.88614386e+05,  1.73786999e+05,  1.59930261e+05,\n",
       "        1.47024112e+05,  1.35036995e+05,  1.23929645e+05,  1.13657960e+05,\n",
       "        1.04175139e+05,  9.54332739e+04,  8.73845059e+04,  7.99818618e+04,\n",
       "        7.31798379e+04,  6.69347959e+04,  6.12052165e+04,  5.59518455e+04,\n",
       "        5.11377605e+04,  4.67283785e+04,  4.26914211e+04,  3.89968497e+04,\n",
       "        3.56167793e+04,  3.25253790e+04,  2.96987643e+04,  2.71148848e+04,\n",
       "        2.47534114e+04,  2.25956234e+04,  2.06242996e+04,  1.88236127e+04,\n",
       "        1.71790274e+04,  1.56772050e+04,  1.43059123e+04,  1.30539362e+04,\n",
       "        1.19110039e+04,  1.08677076e+04,  9.91543607e+03,  9.04630898e+03,\n",
       "        8.25311777e+03,  7.52927003e+03,  6.86873842e+03,  6.26601349e+03,\n",
       "        5.71606022e+03,  5.21427806e+03,  4.75646411e+03,  4.33877938e+03,\n",
       "        3.95771771e+03,  3.61007738e+03,  3.29293496e+03,  3.00362139e+03,\n",
       "        2.73970012e+03,  2.49894701e+03,  2.27933198e+03,  2.07900219e+03,\n",
       "        1.89626669e+03,  1.72958237e+03,  1.57754110e+03,  1.43885797e+03,\n",
       "        1.31236057e+03,  1.19697919e+03,  1.09173785e+03,  9.95746120e+02,\n",
       "        9.08191639e+02,  8.28333298e+02,  7.55494998e+02,  6.89059973e+02,\n",
       "        6.28465583e+02,  5.73198581e+02,  5.22790783e+02,  4.76815116e+02,\n",
       "        4.34882017e+02,  3.96636140e+02,  3.61753356e+02,  3.29938014e+02,\n",
       "        3.00920439e+02,  2.74454656e+02,  2.50316304e+02,  2.28300746e+02,\n",
       "        2.08221325e+02,  1.89907797e+02,  1.73204879e+02,  1.57970943e+02,\n",
       "        1.44076809e+02,  1.31404655e+02,  1.19847021e+02,  1.09305890e+02,\n",
       "        9.96918694e+01,  9.09234229e+01,  8.29261852e+01,  7.56323309e+01,\n",
       "        6.89799979e+01,  6.29127652e+01,  5.73791730e+01,  5.23322872e+01,\n",
       "        4.77293012e+01,  4.35311729e+01,  3.97022941e+01,  3.62101881e+01,\n",
       "        3.30252345e+01,  3.01204179e+01,  2.74710990e+01,  2.50548057e+01,\n",
       "        2.28510419e+01,  2.08411148e+01,  1.90079751e+01,  1.73360734e+01,\n",
       "        1.58112278e+01,  1.44205038e+01,  1.31521045e+01,  1.19952706e+01,\n",
       "        1.09401892e+01,  9.97791040e+00,  9.10027158e+00,  8.29982805e+00,\n",
       "        7.56978987e+00,  6.90396442e+00,  6.29670364e+00,  5.74285637e+00,\n",
       "        5.23772446e+00,  4.77702302e+00,  4.35684404e+00,  3.97362323e+00,\n",
       "        3.62410987e+00,  3.30533907e+00,  3.01460681e+00,  2.74944686e+00,\n",
       "        2.50760993e+00,  2.28704457e+00,  2.08587976e+00,  1.90240909e+00,\n",
       "        1.73507619e+00,  1.58246162e+00,  1.44327078e+00,  1.31632294e+00,\n",
       "        1.20054124e+00,  1.09494350e+00,  9.98633974e-01,  9.10795680e-01,\n",
       "        8.30683504e-01,  7.57617869e-01,  6.90978972e-01,  6.30201529e-01,\n",
       "        5.74769973e-01,  5.24214092e-01,  4.78105027e-01,  4.36051644e-01,\n",
       "        3.97697211e-01,  3.62716375e-01,  3.30812399e-01,  3.01714647e-01,\n",
       "        2.75176289e-01,  2.50972204e-01,  2.28897073e-01,  2.08763637e-01,\n",
       "        1.90401107e-01,  1.73653719e-01,  1.58379403e-01,  1.44448593e-01,\n",
       "        1.31743115e-01,  1.20155193e-01,  1.09586526e-01,  9.99474629e-02,\n",
       "        9.11562364e-02,  8.31382733e-02,  7.58255576e-02,  6.91560578e-02,\n",
       "        6.30731963e-02,  5.75253744e-02,  5.24655302e-02,  4.78507424e-02,\n",
       "        4.36418646e-02,  3.98031939e-02,  3.63021656e-02,  3.31090828e-02,\n",
       "        3.01968582e-02,  2.75407891e-02,  2.51183433e-02,  2.29089725e-02,\n",
       "        2.08939343e-02,  1.90561357e-02,  1.73799871e-02,  1.58512701e-02,\n",
       "        1.44570168e-02,  1.31853996e-02,  1.20256321e-02,  1.09678758e-02,\n",
       "        1.00031583e-02,  9.12329574e-03,  8.32082472e-03,  7.58893765e-03,\n",
       "        6.92142631e-03,  6.31262821e-03,  5.75737911e-03,  5.25096889e-03,\n",
       "        4.78910168e-03,  4.36785965e-03,  3.98366935e-03,  3.63327193e-03,\n",
       "        3.31369486e-03,  3.02222737e-03,  2.75639685e-03,  2.51394841e-03,\n",
       "        2.29282533e-03,  2.09115194e-03,  1.90721742e-03,  1.73946167e-03,\n",
       "        1.58646160e-03,  1.44691885e-03,  1.31965003e-03,  1.20357553e-03,\n",
       "        1.09771056e-03,  1.00115709e-03,  9.13096693e-04,  8.32781884e-04,\n",
       "        7.59531408e-04,  6.92724223e-04,  6.31793049e-04,  5.76221436e-04,\n",
       "        5.25537828e-04,  4.79312134e-04,  4.37152612e-04,  3.98701269e-04,\n",
       "        3.63632058e-04,  3.31647546e-04,  3.02476221e-04,  2.75870871e-04,\n",
       "        2.51605653e-04,  2.29474731e-04,  2.09290498e-04,  1.90881583e-04,\n",
       "        1.74091910e-04,  1.58778898e-04,  1.44812614e-04,  1.32074997e-04,\n",
       "        1.20458099e-04,  1.09863203e-04,  1.00200098e-04,  9.13869235e-05,\n",
       "        8.33491841e-05,  7.60181701e-05,  6.93316779e-05,  6.32335040e-05,\n",
       "        5.76716378e-05,  5.25988439e-05,  4.79724693e-05,  4.37529992e-05,\n",
       "        3.99044897e-05,  3.63946462e-05,  3.31935120e-05,  3.02738704e-05,\n",
       "        2.76113630e-05,  2.51832196e-05,  2.29683002e-05,  2.09478862e-05,\n",
       "        1.91053205e-05,  1.74248714e-05,  1.58919950e-05,  1.44939218e-05,\n",
       "        1.32189834e-05,  1.20562604e-05,  1.09956735e-05,  1.00284582e-05,\n",
       "        9.14644509e-06,  8.34200201e-06,  7.60813573e-06,  6.93885508e-06,\n",
       "        6.32849450e-06,  5.77180109e-06,  5.26391686e-06,  4.80094766e-06,\n",
       "        4.37868114e-06,  3.99352005e-06,  3.64226402e-06,  3.32200695e-06,\n",
       "        3.02995140e-06,  2.76352137e-06,  2.52036360e-06,  2.29840540e-06,\n",
       "        2.09580657e-06,  1.91093720e-06,  1.74239803e-06,  1.58898755e-06,\n",
       "        1.44914715e-06,  1.32156467e-06,  1.20521157e-06,  1.09920742e-06,\n",
       "        1.00277437e-06,  9.14857634e-07,  8.34625209e-07,  7.61401283e-07,\n",
       "        6.94601174e-07,  6.32723984e-07,  5.77737312e-07,  5.27184637e-07,\n",
       "        4.80866507e-07,  4.38583469e-07,  4.00086991e-07,  3.64991457e-07,\n",
       "        3.33020235e-07,  3.03906861e-07,  2.77384868e-07,  2.53187794e-07,\n",
       "        2.31096722e-07,  2.11011193e-07,  1.92732443e-07,  1.76053996e-07,\n",
       "        1.60769378e-07,  1.46672111e-07,  1.33644134e-07,  1.21763401e-07,\n",
       "        1.10937874e-07,  1.01064432e-07,  9.20399519e-08,  8.37613116e-08,\n",
       "        7.47494126e-08,  6.85193585e-08,  6.26793599e-08,  5.72294167e-08,\n",
       "        5.21695289e-08,  4.74996965e-08,  4.32023023e-08,  3.92385031e-08,\n",
       "        3.56069039e-08,  3.23075045e-08,  2.93403050e-08,  2.67053053e-08,\n",
       "        2.43799269e-08,  2.22460929e-08,  2.02867637e-08,  1.85019391e-08,\n",
       "        1.68916192e-08,  1.54558040e-08,  1.41905959e-08,  1.30305074e-08,\n",
       "        1.19521445e-08,  1.09555069e-08,  1.00405948e-08,  9.20740818e-09,\n",
       "        8.45591137e-09,  7.76668726e-09,  7.12340362e-09,  6.52606044e-09,\n",
       "        5.97465774e-09,  5.46919550e-09,  5.00967374e-09,  4.59063976e-09,\n",
       "        4.20082175e-09,  3.83987606e-09,  3.50780268e-09,  3.20460162e-09,\n",
       "        2.93027287e-09,  2.68302172e-09,  2.45411308e-09,  2.24238440e-09,\n",
       "        2.04783569e-09,  1.87046693e-09,  1.71027813e-09,  1.56690882e-09,\n",
       "        1.43496498e-09,  1.31264058e-09,  1.19993563e-09,  1.09685012e-09,\n",
       "        1.00338405e-09,  9.19528898e-10,  8.42921123e-10,  7.71708423e-10,\n",
       "        7.05890799e-10,  6.45468250e-10,  5.90440776e-10,  5.40808379e-10,\n",
       "        4.67047680e-10,  3.90224399e-10,  3.16705218e-10,  2.46490136e-10,\n",
       "        1.79579154e-10,  1.15972272e-10,  5.56694892e-11, -1.32919385e-12,\n",
       "       -5.50237772e-11, -1.05414261e-10, -1.52500645e-10, -1.96282930e-10,\n",
       "       -2.36761114e-10, -2.73935200e-10, -3.07805185e-10, -3.38371071e-10,\n",
       "       -3.65632857e-10, -3.89590544e-10, -4.10244131e-10, -4.27593618e-10,\n",
       "       -4.41639006e-10, -4.52380294e-10, -4.59817482e-10, -4.63950571e-10,\n",
       "       -4.64779560e-10, -4.62304450e-10, -4.56525240e-10, -4.47441930e-10,\n",
       "       -4.35054520e-10, -4.19363011e-10, -4.00367403e-10, -3.78067694e-10,\n",
       "       -3.52463886e-10, -3.28755272e-10, -3.39081090e-10, -3.48537397e-10,\n",
       "       -3.57124192e-10, -3.64841476e-10, -3.71689249e-10, -3.77667511e-10,\n",
       "       -3.82776261e-10, -3.87015500e-10, -3.90385228e-10, -3.92885444e-10,\n",
       "       -3.94516150e-10, -3.95277344e-10, -3.95169026e-10, -3.94191198e-10,\n",
       "       -3.92343858e-10, -3.89627007e-10, -3.86040645e-10, -3.81584772e-10,\n",
       "       -3.76259387e-10, -3.70064491e-10, -3.63000084e-10, -3.55066165e-10,\n",
       "       -3.46262735e-10, -3.36589794e-10, -3.26047342e-10, -3.14635378e-10,\n",
       "       -3.02353904e-10, -2.89202918e-10, -2.75182420e-10, -2.60292412e-10,\n",
       "       -2.44532892e-10, -2.27903861e-10, -2.10405318e-10, -2.08792806e-10,\n",
       "       -2.04060312e-10, -1.99327818e-10, -1.94595325e-10, -1.89862831e-10,\n",
       "       -1.85130337e-10, -1.80397843e-10, -1.75665350e-10, -1.70932856e-10,\n",
       "       -1.66200362e-10, -1.61467869e-10, -1.56735375e-10, -1.52002881e-10,\n",
       "       -1.47270388e-10, -1.42537894e-10, -1.37805400e-10, -1.33072907e-10,\n",
       "       -1.28340413e-10, -1.23607919e-10, -1.18875426e-10, -1.14142932e-10,\n",
       "       -1.09410438e-10, -1.04677945e-10, -9.99454508e-11, -9.52129571e-11,\n",
       "       -9.04804634e-11, -8.57479698e-11, -8.10154761e-11, -7.62829824e-11,\n",
       "       -7.15504887e-11, -6.68179950e-11, -6.20855013e-11, -5.73530076e-11,\n",
       "       -5.26205140e-11, -5.12914522e-11, -5.11436548e-11, -5.09958573e-11,\n",
       "       -5.08480599e-11, -5.07002624e-11, -5.05524650e-11, -5.04046675e-11,\n",
       "       -5.02568701e-11, -5.01090726e-11, -4.99612751e-11, -4.98134777e-11,\n",
       "       -4.96656802e-11, -4.95178828e-11, -4.93700853e-11, -4.92222879e-11,\n",
       "       -4.90744904e-11, -4.89266929e-11, -4.87788955e-11, -4.86310980e-11,\n",
       "       -4.84833006e-11, -4.83355031e-11, -4.81877057e-11, -4.80399082e-11,\n",
       "       -4.78921107e-11, -4.77443133e-11, -4.75965158e-11, -4.74487184e-11,\n",
       "       -4.73009209e-11, -4.71531235e-11, -4.70053260e-11, -4.68575286e-11,\n",
       "       -4.67097311e-11, -4.65619336e-11, -4.64141362e-11, -4.62663387e-11,\n",
       "       -4.61185413e-11, -4.59707438e-11, -4.58229464e-11, -4.56751489e-11,\n",
       "       -4.55273514e-11, -4.53795540e-11, -4.52317565e-11, -4.50839591e-11,\n",
       "       -4.49361616e-11, -4.47883642e-11, -4.46405667e-11, -4.44927692e-11,\n",
       "       -4.43449718e-11, -4.41971743e-11, -4.40493769e-11, -4.39015794e-11,\n",
       "       -4.37537820e-11, -4.36059845e-11, -4.34581871e-11, -4.33103896e-11,\n",
       "       -4.31625921e-11, -4.30147947e-11, -4.28669972e-11, -4.27191998e-11,\n",
       "       -4.25714023e-11, -4.24236049e-11, -4.22758074e-11, -4.21280099e-11,\n",
       "       -4.19802125e-11, -4.18324150e-11, -4.16846176e-11, -4.15368201e-11,\n",
       "       -4.13890227e-11, -4.12412252e-11, -4.10934277e-11, -4.09456303e-11,\n",
       "       -4.07978328e-11, -4.06500354e-11, -4.05022379e-11, -4.03544405e-11,\n",
       "       -4.02066430e-11, -4.00588456e-11, -3.99110481e-11, -3.97632506e-11,\n",
       "       -3.96154532e-11, -3.94676557e-11, -3.93198583e-11, -3.91720608e-11,\n",
       "       -3.90242634e-11, -3.88764659e-11, -3.87286684e-11, -3.85808710e-11,\n",
       "       -3.84330735e-11, -3.82852761e-11, -3.81374786e-11, -3.79896812e-11,\n",
       "       -3.78418837e-11, -3.76940862e-11, -3.75462888e-11, -3.73984913e-11,\n",
       "       -3.72506939e-11, -3.71028964e-11, -3.69550990e-11, -3.68073015e-11,\n",
       "       -3.66595041e-11, -3.65117066e-11, -3.63639091e-11, -3.62161117e-11,\n",
       "       -3.60683142e-11, -3.59205168e-11, -3.57727193e-11, -3.56249219e-11,\n",
       "       -3.54771244e-11, -3.53293269e-11, -3.51815295e-11, -3.50337320e-11,\n",
       "       -3.48859346e-11, -3.47381371e-11, -3.45903397e-11, -3.44425422e-11,\n",
       "       -3.42947447e-11, -3.41469473e-11, -3.39991498e-11, -3.38513524e-11,\n",
       "       -3.37035549e-11, -3.35557575e-11, -3.34079600e-11, -3.32601626e-11,\n",
       "       -3.31123651e-11, -3.29645676e-11, -3.28167702e-11, -3.26689727e-11,\n",
       "       -3.25211753e-11, -3.23733778e-11, -3.22255804e-11, -3.20777829e-11,\n",
       "       -3.19299854e-11, -3.17821880e-11, -3.16343905e-11, -3.14865931e-11,\n",
       "       -3.13387956e-11, -3.11909982e-11, -3.10432007e-11, -3.08954032e-11,\n",
       "       -3.07476058e-11, -3.05998083e-11, -3.04520109e-11, -3.03042134e-11,\n",
       "       -3.01564160e-11, -3.00086185e-11, -2.98608211e-11, -2.97130236e-11,\n",
       "       -2.95652261e-11, -2.94174287e-11, -2.92696312e-11, -2.91218338e-11,\n",
       "       -2.89740363e-11, -2.88262389e-11, -2.86784414e-11, -2.85306439e-11,\n",
       "       -2.83828465e-11, -2.82350490e-11, -2.80872516e-11, -2.79394541e-11,\n",
       "       -2.77916567e-11, -2.76438592e-11, -2.74960617e-11, -2.73482643e-11,\n",
       "       -2.72004668e-11, -2.70526694e-11, -2.69048719e-11, -2.67570745e-11,\n",
       "       -2.66092770e-11, -2.64614796e-11, -2.63136821e-11, -2.61658846e-11,\n",
       "       -2.60180872e-11, -2.58702897e-11, -2.57224923e-11, -2.55746948e-11,\n",
       "       -2.54268974e-11, -2.52790999e-11, -2.51313024e-11, -2.49835050e-11,\n",
       "       -2.48357075e-11, -2.46879101e-11, -2.45401126e-11, -2.43923152e-11,\n",
       "       -2.42445177e-11, -2.40967202e-11, -2.39489228e-11, -2.38011253e-11,\n",
       "       -2.36533279e-11, -2.35055304e-11, -2.33577330e-11, -2.32099355e-11,\n",
       "       -2.30621381e-11, -2.29143406e-11, -2.27665431e-11, -2.26187457e-11,\n",
       "       -2.24709482e-11, -2.23231508e-11, -2.21753533e-11, -2.20275559e-11,\n",
       "       -2.18797584e-11, -2.17319609e-11, -2.15841635e-11, -2.14363660e-11,\n",
       "       -2.12885686e-11, -2.11407711e-11, -2.09929737e-11, -2.08451762e-11,\n",
       "       -2.06973787e-11, -2.05495813e-11, -2.04017838e-11, -2.02539864e-11,\n",
       "       -2.01061889e-11, -1.99583915e-11, -1.98105940e-11, -1.96627966e-11,\n",
       "       -1.95149991e-11, -1.93672016e-11, -1.92194042e-11, -1.90716067e-11,\n",
       "       -1.89238093e-11, -1.87760118e-11, -1.86282144e-11, -1.84804169e-11,\n",
       "       -1.83326194e-11, -1.81848220e-11, -1.80370245e-11, -1.78892271e-11,\n",
       "       -1.77414296e-11, -1.75936322e-11, -1.74458347e-11, -1.72980372e-11,\n",
       "       -1.71502398e-11, -1.70024423e-11, -1.68546449e-11, -1.67068474e-11,\n",
       "       -1.65590500e-11, -1.64112525e-11, -1.62634551e-11, -1.61156576e-11,\n",
       "       -1.59678601e-11, -1.58200627e-11, -1.56722652e-11, -1.55244678e-11,\n",
       "       -1.53766703e-11, -1.52288729e-11, -1.50810754e-11, -1.49332779e-11,\n",
       "       -1.47854805e-11, -1.46376830e-11, -1.44898856e-11, -1.43420881e-11,\n",
       "       -1.41942907e-11, -1.40464932e-11, -1.38986957e-11, -1.37508983e-11,\n",
       "       -1.36031008e-11, -1.34553034e-11, -1.33075059e-11, -1.31597085e-11,\n",
       "       -1.30119110e-11, -1.28641136e-11, -1.27163161e-11, -1.25685186e-11,\n",
       "       -1.24207212e-11, -1.22729237e-11, -1.21251263e-11, -1.19773288e-11,\n",
       "       -1.18295314e-11, -1.16817339e-11, -1.15339364e-11, -1.13861390e-11,\n",
       "       -1.12383415e-11, -1.10905441e-11, -1.09427466e-11, -1.07949492e-11,\n",
       "       -1.06471517e-11, -1.04993542e-11, -1.03515568e-11, -1.02037593e-11,\n",
       "       -1.00559619e-11, -9.90816442e-12, -9.76036696e-12, -9.61256951e-12,\n",
       "       -9.46477205e-12, -9.31697459e-12, -9.16917714e-12, -9.02137968e-12,\n",
       "       -8.87358223e-12, -8.72578477e-12, -8.57798731e-12, -8.43018986e-12,\n",
       "       -8.28239240e-12, -8.13459494e-12, -7.98679749e-12, -7.83900003e-12,\n",
       "       -7.69120257e-12, -7.54340512e-12, -7.39560766e-12, -7.24781020e-12,\n",
       "       -7.10001275e-12, -6.95221529e-12, -6.80441783e-12, -6.65662038e-12,\n",
       "       -6.50882292e-12, -6.36102546e-12, -6.21322801e-12, -6.06543055e-12,\n",
       "       -5.91763309e-12, -5.76983564e-12, -5.62203818e-12, -5.47424073e-12,\n",
       "       -5.32644327e-12, -5.17864581e-12, -5.03084836e-12, -4.88305090e-12,\n",
       "       -4.73525344e-12, -4.58745599e-12, -4.43965853e-12, -4.29186107e-12,\n",
       "       -4.14406362e-12, -3.99626616e-12, -3.84846870e-12, -3.70067125e-12,\n",
       "       -3.55287379e-12, -3.40507633e-12, -3.25727888e-12, -3.10948142e-12,\n",
       "       -2.96168396e-12, -2.81388651e-12, -2.66608905e-12, -2.51829159e-12,\n",
       "       -2.37049414e-12, -2.22269668e-12, -2.07489923e-12, -1.92710177e-12,\n",
       "       -1.77930431e-12, -1.63150686e-12, -1.60148865e-12, -1.59687286e-12,\n",
       "       -1.59225707e-12, -1.58764128e-12, -1.58302548e-12, -1.57840969e-12,\n",
       "       -1.57379390e-12, -1.56917811e-12, -1.56456232e-12, -1.55994652e-12,\n",
       "       -1.55533073e-12, -1.55071494e-12, -1.54609915e-12, -1.54148335e-12,\n",
       "       -1.53686756e-12, -1.53225177e-12, -1.52763598e-12, -1.52302018e-12,\n",
       "       -1.51840439e-12, -1.51378860e-12, -1.50917281e-12, -1.50455702e-12,\n",
       "       -1.49994122e-12, -1.49532543e-12, -1.49070964e-12])"
      ]
     },
     "execution_count": 46,
     "metadata": {},
     "output_type": "execute_result"
    }
   ],
   "source": [
    "popt=[0.4, 0.1]\n",
    "fit_odeint(t_Spain, *popt)"
   ]
  },
  {
   "cell_type": "code",
   "execution_count": 47,
   "id": "6f951551",
   "metadata": {},
   "outputs": [
    {
     "name": "stderr",
     "output_type": "stream",
     "text": [
      "C:\\Users\\DigiBau\\AppData\\Local\\Programs\\Python\\Python310\\lib\\site-packages\\scipy\\integrate\\_odepack_py.py:247: ODEintWarning: Excess work done on this call (perhaps wrong Dfun type). Run with full_output = 1 to get quantitative information.\n",
      "  warnings.warn(warning_msg, ODEintWarning)\n",
      "C:\\Users\\DigiBau\\AppData\\Local\\Temp\\ipykernel_8044\\2838838603.py:16: RuntimeWarning: overflow encountered in double_scalars\n",
      "  dS_dt = -beta*S*I/N0\n",
      "C:\\Users\\DigiBau\\AppData\\Local\\Temp\\ipykernel_8044\\2838838603.py:17: RuntimeWarning: overflow encountered in double_scalars\n",
      "  dI_dt = beta*S*I/N0-gamma*I\n",
      "C:\\Users\\DigiBau\\AppData\\Local\\Temp\\ipykernel_8044\\2838838603.py:17: RuntimeWarning: invalid value encountered in double_scalars\n",
      "  dI_dt = beta*S*I/N0-gamma*I\n"
     ]
    }
   ],
   "source": [
    "popt_Spain, pcov_Spain = optimize.curve_fit(fit_odeint, t_Spain, ydata_Spain)\n",
    "perr_Spain = np.sqrt(np.diag(pcov_Spain))"
   ]
  },
  {
   "cell_type": "code",
   "execution_count": 48,
   "id": "4787e3e1",
   "metadata": {},
   "outputs": [
    {
     "name": "stdout",
     "output_type": "stream",
     "text": [
      "standard deviation error:  [3.10293581e-03 2.49243401e-05] start infect: 84.0\n",
      "Optimal parameters: beta =  0.0772230381137 and gamma =  -0.0035836348083870258\n"
     ]
    }
   ],
   "source": [
    "print('standard deviation error: ', str(perr_Spain), 'start infect:', ydata_Spain[0])\n",
    "print('Optimal parameters: beta = ', popt_Spain[0], 'and gamma = ', popt_Spain[1])"
   ]
  },
  {
   "cell_type": "code",
   "execution_count": 49,
   "id": "2fb393b8",
   "metadata": {},
   "outputs": [],
   "source": [
    "fitted_Spain = fit_odeint(t_Spain, *popt_Spain)"
   ]
  },
  {
   "cell_type": "code",
   "execution_count": null,
   "id": "62aa35bf",
   "metadata": {
    "scrolled": false
   },
   "outputs": [],
   "source": [
    "plt.semilogy(t_Spain, ydata_Spain, 'o',color='r')\n",
    "plt.semilogy(t_Spain, fitted_Spain, color='r')\n",
    "plt.title('Fit of SIR model for Spain cases')\n",
    "plt.ylabel('Population infected')\n",
    "plt.xlabel('Days')\n",
    "plt.show()\n",
    "print('Optimal parameters: beta = ', popt_Spain[0], 'and gamma = ', popt_Spain[1])\n",
    "print('Basic Reproduction Number R0: ',popt_Spain[0]/popt_Spain[1] )"
   ]
  },
  {
   "cell_type": "markdown",
   "id": "c66733fa",
   "metadata": {},
   "source": [
    "## Combining all SIR Data from 3 countries in one data frame"
   ]
  },
  {
   "cell_type": "code",
   "execution_count": null,
   "id": "679cc736",
   "metadata": {},
   "outputs": [],
   "source": [
    "SIR=pd.DataFrame(t_Germany)"
   ]
  },
  {
   "cell_type": "code",
   "execution_count": null,
   "id": "22a891cb",
   "metadata": {},
   "outputs": [],
   "source": [
    "SIR.rename(columns={0:'date'}, inplace=True)"
   ]
  },
  {
   "cell_type": "code",
   "execution_count": null,
   "id": "8052c4e7",
   "metadata": {},
   "outputs": [],
   "source": [
    "SIR['Germany_infected'], SIR['Germany_infected_fitted'] =pd.DataFrame(ydata_Germany), pd.DataFrame(fitted_Germany)"
   ]
  },
  {
   "cell_type": "code",
   "execution_count": null,
   "id": "9f22c15a",
   "metadata": {},
   "outputs": [],
   "source": [
    "SIR.head()"
   ]
  },
  {
   "cell_type": "code",
   "execution_count": null,
   "id": "0ed0b5e8",
   "metadata": {},
   "outputs": [],
   "source": [
    "SIR['India_infected'], SIR['India_infected_fitted'] =pd.DataFrame(ydata_India), pd.DataFrame(fitted_India)"
   ]
  },
  {
   "cell_type": "code",
   "execution_count": null,
   "id": "a2e59595",
   "metadata": {
    "scrolled": true
   },
   "outputs": [],
   "source": [
    "SIR.tail()"
   ]
  },
  {
   "cell_type": "code",
   "execution_count": null,
   "id": "d5f563e0",
   "metadata": {},
   "outputs": [],
   "source": [
    "SIR['Spain_infected'], SIR['Spain_infected_fitted'] =pd.DataFrame(ydata_Spain), pd.DataFrame(fitted_Spain)"
   ]
  },
  {
   "cell_type": "code",
   "execution_count": null,
   "id": "0d92eef3",
   "metadata": {},
   "outputs": [],
   "source": [
    "SIR.head()"
   ]
  },
  {
   "cell_type": "markdown",
   "id": "7bb86e2f",
   "metadata": {},
   "source": [
    "# Dashboard Preparation"
   ]
  },
  {
   "cell_type": "code",
   "execution_count": null,
   "id": "60c40807",
   "metadata": {},
   "outputs": [],
   "source": [
    "# country drop-down list\n",
    "country_select_list = []\n",
    "for each in country_list:\n",
    "    select = {'label':each, 'value':each+'_infected'}\n",
    "    country_select_list.append(select)"
   ]
  },
  {
   "cell_type": "code",
   "execution_count": null,
   "id": "c38e4c10",
   "metadata": {},
   "outputs": [],
   "source": [
    "country_select_list"
   ]
  },
  {
   "cell_type": "code",
   "execution_count": null,
   "id": "261058b9",
   "metadata": {},
   "outputs": [],
   "source": [
    "import dash\n",
    "import dash_core_components as dcc\n",
    "import dash_html_components as html\n",
    "\n",
    "fig = go.Figure()\n",
    "app = dash.Dash()\n",
    "\n",
    "app.layout = html.Div([\n",
    "    \n",
    "    dcc.Markdown('''\n",
    "    #  Enterprise Data Science - (COVID-19 Data SIR Model)\n",
    "    '''),\n",
    "\n",
    "\n",
    "\n",
    "    html.Label(children='Multi-Select Country for visualization'),\n",
    "    dcc.Dropdown(id='country_drop_down', options=country_select_list, multi=False, value=country_select_list[0]['value'], placeholder='Select the country here...'),\n",
    "    dcc.Graph(figure=fig, id='main_window_slope') # Output\n",
    "])"
   ]
  },
  {
   "cell_type": "code",
   "execution_count": null,
   "id": "74f18a5d",
   "metadata": {},
   "outputs": [],
   "source": [
    "from dash.dependencies import Input, Output\n",
    "\n",
    "@app.callback(\n",
    "    Output('main_window_slope', 'figure'),\n",
    "    [Input('country_drop_down', 'value')])\n",
    "def update_function(country_drop_down):\n",
    "    \n",
    "    traces = []\n",
    "    \n",
    "    traces.append(dict(x=SIR.index,\n",
    "                       y=SIR[country_drop_down],\n",
    "                         mode='markers',\n",
    "                         opacity=0.9,\n",
    "                         line_width=2,\n",
    "                         marker_size=4,\n",
    "                         name=country_drop_down))\n",
    "    traces.append(dict(x=SIR.index,\n",
    "                       y=SIR[country_drop_down+str('_fitted')],\n",
    "                         mode='lines',\n",
    "                         opacity=0.9,\n",
    "                         line_width=2,\n",
    "                         marker_size=4,\n",
    "                         name=country_drop_down+str('_fitted')))\n",
    "           \n",
    "\n",
    "    \n",
    "    return {\n",
    "            'data': traces,\n",
    "            'layout': dict(\n",
    "                width=1280,\n",
    "                height=720,\n",
    "                \n",
    "                xaxis={'title': 'Days',\n",
    "                        'tickangle':-45,\n",
    "                        'nticks':20,\n",
    "                       'tickfont':dict(size=14, color=\"#7f7f7f\"),\n",
    "                      },\n",
    "                \n",
    "                yaxis={'title': 'Infected Population',\n",
    "                    'type':\"linear\",\n",
    "                       'range':'[1.1,5.5]'}\n",
    "            )}\n",
    "\n",
    "    "
   ]
  },
  {
   "cell_type": "code",
   "execution_count": null,
   "id": "8aa35708",
   "metadata": {},
   "outputs": [],
   "source": [
    "app.run_server(debug=True, use_reloader=False)"
   ]
  },
  {
   "cell_type": "markdown",
   "id": "be1279ba",
   "metadata": {},
   "source": [
    "# End"
   ]
  }
 ],
 "metadata": {
  "kernelspec": {
   "display_name": "Python 3 (ipykernel)",
   "language": "python",
   "name": "python3"
  },
  "language_info": {
   "codemirror_mode": {
    "name": "ipython",
    "version": 3
   },
   "file_extension": ".py",
   "mimetype": "text/x-python",
   "name": "python",
   "nbconvert_exporter": "python",
   "pygments_lexer": "ipython3",
   "version": "3.10.0"
  }
 },
 "nbformat": 4,
 "nbformat_minor": 5
}
