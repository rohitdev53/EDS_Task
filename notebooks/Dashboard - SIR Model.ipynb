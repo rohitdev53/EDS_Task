{
 "cells": [
  {
   "cell_type": "markdown",
   "id": "3484aeb4",
   "metadata": {},
   "source": [
    "# Dashboard - SIR Model"
   ]
  },
  {
   "cell_type": "markdown",
   "id": "7469ba9c",
   "metadata": {},
   "source": [
    "## Name: Rohit Dev"
   ]
  },
  {
   "cell_type": "code",
   "execution_count": null,
   "id": "3cc930fd",
   "metadata": {},
   "outputs": [],
   "source": [
    "# Import libraries\n",
    "import pandas as pd \n",
    "import numpy as np\n",
    "import matplotlib.pyplot as plt\n",
    "import matplotlib as mpl\n",
    "import seaborn as sns\n",
    "import missingno as msno\n",
    "import plotly.graph_objects as go\n",
    "\n",
    "from datetime import datetime"
   ]
  },
  {
   "cell_type": "code",
   "execution_count": null,
   "id": "3d3b19f2",
   "metadata": {},
   "outputs": [],
   "source": [
    "%matplotlib inline\n",
    "sns.set(style='darkgrid')\n",
    "mpl.rcParams['figure.figsize'] = (16,9)\n",
    "pd.set_option('display.max_rows', 500)"
   ]
  },
  {
   "cell_type": "code",
   "execution_count": null,
   "id": "08a5be1d",
   "metadata": {},
   "outputs": [],
   "source": [
    "# SIR Model is being for shown 3 countries\n",
    "country_list = ['Germany', 'India', 'Spain']"
   ]
  },
  {
   "cell_type": "code",
   "execution_count": null,
   "id": "b5423c92",
   "metadata": {},
   "outputs": [],
   "source": [
    "# Import raw data\n",
    "raw_data=pd.read_csv('../data/raw/owid-covid-data.csv')"
   ]
  },
  {
   "cell_type": "code",
   "execution_count": null,
   "id": "db31adfd",
   "metadata": {},
   "outputs": [],
   "source": [
    "# display raw data\n",
    "raw_data.head()"
   ]
  },
  {
   "cell_type": "code",
   "execution_count": null,
   "id": "e4eb7c49",
   "metadata": {
    "scrolled": false
   },
   "outputs": [],
   "source": [
    "# raw_data columns list\n",
    "raw_data.columns"
   ]
  },
  {
   "cell_type": "code",
   "execution_count": null,
   "id": "c8819c0f",
   "metadata": {},
   "outputs": [],
   "source": [
    "# Sorting of required data from raw data  \n",
    "data_sort = raw_data[['date', 'location','total_cases', 'population']]"
   ]
  },
  {
   "cell_type": "code",
   "execution_count": null,
   "id": "d7b6a111",
   "metadata": {},
   "outputs": [],
   "source": [
    "# Changing column names\n",
    "data_sort = data_sort.rename(columns={'location':'country', 'total_cases':'infected'})"
   ]
  },
  {
   "cell_type": "code",
   "execution_count": null,
   "id": "adcb9dfe",
   "metadata": {
    "scrolled": true
   },
   "outputs": [],
   "source": [
    "data_sort.head()"
   ]
  },
  {
   "cell_type": "code",
   "execution_count": null,
   "id": "e052a5df",
   "metadata": {},
   "outputs": [],
   "source": []
  },
  {
   "cell_type": "code",
   "execution_count": null,
   "id": "94bc1412",
   "metadata": {},
   "outputs": [],
   "source": [
    "# Changing date format\n",
    "date_idx = [datetime.strptime(each, '%Y-%m-%d') for each in data_sort.date]\n",
    "data_sort['date'] = date_idx"
   ]
  },
  {
   "cell_type": "code",
   "execution_count": null,
   "id": "d2d1fe64",
   "metadata": {},
   "outputs": [],
   "source": [
    "df_processed = pd.DataFrame(data_sort['date'])"
   ]
  },
  {
   "cell_type": "code",
   "execution_count": null,
   "id": "4bcf8780",
   "metadata": {},
   "outputs": [],
   "source": [
    "df_processed = pd.DataFrame(df_processed['date'].unique())"
   ]
  },
  {
   "cell_type": "code",
   "execution_count": null,
   "id": "efb7ad40",
   "metadata": {},
   "outputs": [],
   "source": [
    "df_processed.rename(columns={0:'date'}, inplace=True)"
   ]
  },
  {
   "cell_type": "code",
   "execution_count": null,
   "id": "78eebd2f",
   "metadata": {},
   "outputs": [],
   "source": [
    "df_processed.sort_values(by='date', inplace=True)"
   ]
  },
  {
   "cell_type": "code",
   "execution_count": null,
   "id": "23f42d02",
   "metadata": {},
   "outputs": [],
   "source": [
    "df_processed.set_index(['date'], inplace=True)"
   ]
  },
  {
   "cell_type": "code",
   "execution_count": null,
   "id": "061ec1d2",
   "metadata": {},
   "outputs": [],
   "source": [
    "data_sort.set_index(['date'], inplace=True)"
   ]
  },
  {
   "cell_type": "code",
   "execution_count": null,
   "id": "51a87ad2",
   "metadata": {
    "scrolled": true
   },
   "outputs": [],
   "source": [
    "# Create a new processed data frame with country infected cases along with population size \n",
    "for each in country_list:\n",
    "    df_processed[each+'_infected'] = pd.DataFrame(data_sort[data_sort['country'] == each]['infected'])\n",
    "    df_processed[each+'_population'] = pd.DataFrame(data_sort[data_sort['country'] == each]['population'])"
   ]
  },
  {
   "cell_type": "code",
   "execution_count": null,
   "id": "386d5b46",
   "metadata": {},
   "outputs": [],
   "source": [
    "df_processed.head()"
   ]
  },
  {
   "cell_type": "code",
   "execution_count": null,
   "id": "bba4aea9",
   "metadata": {},
   "outputs": [],
   "source": [
    "# Fill 0 value in empty cells\n",
    "df_population = df_processed.fillna(0)"
   ]
  },
  {
   "cell_type": "code",
   "execution_count": null,
   "id": "315345dd",
   "metadata": {},
   "outputs": [],
   "source": [
    "country_population_list=np.zeros(len(country_list))\n",
    "for pos, each in enumerate(country_list):\n",
    "    country_population_list[pos] = max(df_population[each+'_population'])"
   ]
  },
  {
   "cell_type": "markdown",
   "id": "c061c708",
   "metadata": {},
   "source": []
  },
  {
   "cell_type": "code",
   "execution_count": null,
   "id": "f327da30",
   "metadata": {},
   "outputs": [],
   "source": [
    "# Import for SIR Model \n",
    "from scipy import optimize\n",
    "from scipy import integrate"
   ]
  },
  {
   "cell_type": "code",
   "execution_count": null,
   "id": "3146c252",
   "metadata": {
    "scrolled": true
   },
   "outputs": [],
   "source": [
    "ydata_Germany = np.array(df_processed.Germany_infected[60:]) # 60 entries have been taken\n",
    "ydata_Germany = ydata_Germany.astype(int)\n",
    "t_Germany=np.arange(len(ydata_Germany))"
   ]
  },
  {
   "cell_type": "code",
   "execution_count": null,
   "id": "afc45ab6",
   "metadata": {},
   "outputs": [],
   "source": [
    "df_processed['Germany_population']"
   ]
  },
  {
   "cell_type": "code",
   "execution_count": null,
   "id": "2161ac50",
   "metadata": {},
   "outputs": [],
   "source": [
    "# Parameters\n",
    "\n",
    "#N0 = country_population_list[1] # Population size\n",
    "N0 = 1000000\n",
    "beta = 0.4\n",
    "gamma = 0.1  # 1(gamma) Person can infect 4(beta) people\n",
    "\n",
    "I0 = ydata_Germany[0]   # Initial infected size\n",
    "#S0 = N0-I0  # Population prone to infection\n",
    "S0 = N0-I0\n",
    "R0 = 0  # Initial recovered size"
   ]
  },
  {
   "cell_type": "code",
   "execution_count": null,
   "id": "832ff4ff",
   "metadata": {},
   "outputs": [],
   "source": [
    "I0"
   ]
  },
  {
   "cell_type": "code",
   "execution_count": null,
   "id": "34c83870",
   "metadata": {},
   "outputs": [],
   "source": [
    "# SIR Model Function\n",
    "\n",
    "def SIR_model(SIR, t, beta, gamma):\n",
    "    ''' Simple SIR model\n",
    "        S: susceptible population\n",
    "        I: infected people\n",
    "        R: recovered people\n",
    "        beta:\n",
    "        \n",
    "        overall condition is that the sum of changes (differences) sum up to 0\n",
    "        dS+dI+dR=0\n",
    "        S+I+R = N (constant size of population)\n",
    "    '''\n",
    "    \n",
    "    S,I,R = SIR\n",
    "    dS_dt = -beta*S*I/N0\n",
    "    dI_dt = beta*S*I/N0-gamma*I\n",
    "    dR_dt = gamma*I\n",
    "    return ([dS_dt, dI_dt, dR_dt])"
   ]
  },
  {
   "cell_type": "code",
   "execution_count": null,
   "id": "869b2d79",
   "metadata": {},
   "outputs": [],
   "source": [
    "def fit_odeint(x, beta, gamma):\n",
    "    return integrate.odeint(SIR_model, (S0, I0, R0), t_Germany, args=(beta, gamma))[:,1] # we only would like to get dI"
   ]
  },
  {
   "cell_type": "code",
   "execution_count": null,
   "id": "c86f45e7",
   "metadata": {
    "scrolled": false
   },
   "outputs": [],
   "source": [
    "popt=[0.4, 0.1]\n",
    "fit_odeint(t_Germany, *popt)"
   ]
  },
  {
   "cell_type": "code",
   "execution_count": null,
   "id": "593f9b63",
   "metadata": {
    "scrolled": false
   },
   "outputs": [],
   "source": [
    "popt_Germany, pcov_Germany = optimize.curve_fit(fit_odeint, t_Germany, ydata_Germany)\n",
    "perr_Germany = np.sqrt(np.diag(pcov_Germany))"
   ]
  },
  {
   "cell_type": "code",
   "execution_count": null,
   "id": "b5cc78d4",
   "metadata": {
    "scrolled": true
   },
   "outputs": [],
   "source": [
    "print('standard deviation error: ', str(perr_Germany), 'start infect:', ydata_Germany[0])\n",
    "print('Optimal parameters: beta = ', popt_Germany[0], 'and gamma = ', popt_Germany[1])"
   ]
  },
  {
   "cell_type": "code",
   "execution_count": null,
   "id": "e3fb0af7",
   "metadata": {},
   "outputs": [],
   "source": [
    "fitted_Germany = fit_odeint(t_Germany, *popt_Germany)"
   ]
  },
  {
   "cell_type": "code",
   "execution_count": null,
   "id": "764dfe46",
   "metadata": {
    "scrolled": false
   },
   "outputs": [],
   "source": [
    "plt.semilogy(t_Germany, ydata_Germany, 'o',color='g')\n",
    "plt.semilogy(t_Germany, fitted_Germany, color='g')\n",
    "plt.title('Fit of SIR model for Germany cases')\n",
    "plt.ylabel('Population infected')\n",
    "plt.xlabel('Days')\n",
    "plt.show()\n",
    "print('Optimal parameters: beta = ', popt_Germany[0], 'and gamma = ', popt_Germany[1])\n",
    "print('Basic Reproduction Number R0: ',popt_Germany[0]/popt_Germany[1] )"
   ]
  },
  {
   "cell_type": "markdown",
   "id": "261e7be5",
   "metadata": {},
   "source": [
    "# India"
   ]
  },
  {
   "cell_type": "code",
   "execution_count": null,
   "id": "b4b88b87",
   "metadata": {},
   "outputs": [],
   "source": [
    "ydata_India = np.array(df_processed.India_infected[70:])\n",
    "#ydata_India = ydata_India.astype(int)\n",
    "t_India=np.arange(len(ydata_India))"
   ]
  },
  {
   "cell_type": "code",
   "execution_count": null,
   "id": "b7086df1",
   "metadata": {},
   "outputs": [],
   "source": [
    "# Parameters\n",
    "\n",
    "#N0 = country_population_list[1] # Population size\n",
    "N0 = 10000000\n",
    "beta = 0.4\n",
    "gamma = 0.1  # 1(gamma) Person can infect 4(beta) people\n",
    "\n",
    "I0 = ydata_India[0]   # Initial infected size\n",
    "#S0 = N0-I0  # Population prone to infection\n",
    "S0 = N0-I0\n",
    "R0 = 0  # Initial recovered size"
   ]
  },
  {
   "cell_type": "code",
   "execution_count": null,
   "id": "daa4ac6a",
   "metadata": {},
   "outputs": [],
   "source": [
    "I0"
   ]
  },
  {
   "cell_type": "code",
   "execution_count": null,
   "id": "52b951ae",
   "metadata": {},
   "outputs": [],
   "source": [
    "def fit_odeint(x, beta, gamma):\n",
    "    return integrate.odeint(SIR_model, (S0, I0, R0), t_India, args=(beta, gamma))[:,1] # we only would like to get dI"
   ]
  },
  {
   "cell_type": "code",
   "execution_count": null,
   "id": "d409e3df",
   "metadata": {},
   "outputs": [],
   "source": [
    "popt=[0.4, 0.1]\n",
    "fit_odeint(t_India, *popt)"
   ]
  },
  {
   "cell_type": "code",
   "execution_count": null,
   "id": "eb50dadc",
   "metadata": {},
   "outputs": [],
   "source": [
    "popt_India, pcov_India = optimize.curve_fit(fit_odeint, t_India, ydata_India)\n",
    "perr_India = np.sqrt(np.diag(pcov_India))"
   ]
  },
  {
   "cell_type": "code",
   "execution_count": null,
   "id": "c80600bc",
   "metadata": {},
   "outputs": [],
   "source": [
    "print('standard deviation error: ', str(perr_India), 'start infect:', ydata_India[0])\n",
    "print('Optimal parameters: beta = ', popt_India[0], 'and gamma = ', popt_India[1])"
   ]
  },
  {
   "cell_type": "code",
   "execution_count": null,
   "id": "34834f32",
   "metadata": {},
   "outputs": [],
   "source": [
    "fitted_India = fit_odeint(t_India, *popt_India)"
   ]
  },
  {
   "cell_type": "code",
   "execution_count": null,
   "id": "3ce9b443",
   "metadata": {},
   "outputs": [],
   "source": [
    "plt.semilogy(t_India, ydata_India, 'o',color='y')\n",
    "plt.semilogy(t_India, fitted_India, color='y')\n",
    "plt.title('Fit of SIR model for India cases')\n",
    "plt.ylabel('Population infected')\n",
    "plt.xlabel('Days')\n",
    "plt.show()\n",
    "print('Optimal parameters: beta = ', popt_India[0], 'and gamma = ', popt_India[1])\n",
    "print('Basic Reproduction Number R0: ',popt_India[0]/popt_India[1] )"
   ]
  },
  {
   "cell_type": "markdown",
   "id": "7a6711a0",
   "metadata": {},
   "source": [
    "# Spain"
   ]
  },
  {
   "cell_type": "code",
   "execution_count": null,
   "id": "bedd3c72",
   "metadata": {},
   "outputs": [],
   "source": [
    "ydata_Spain = np.array(df_processed.Spain_infected[60:])\n",
    "t_Spain=np.arange(len(ydata_Spain))"
   ]
  },
  {
   "cell_type": "code",
   "execution_count": null,
   "id": "5c9860d7",
   "metadata": {},
   "outputs": [],
   "source": [
    "# Parameters\n",
    "\n",
    "#N0 = country_population_list[1] # Population size\n",
    "N0 = 1000000\n",
    "beta = 0.4\n",
    "gamma = 0.1  # 1(gamma) Person can infect 4(beta) people\n",
    "\n",
    "I0 = ydata_Spain[0]   # Initial infected size\n",
    "#S0 = N0-I0  # Population prone to infection\n",
    "S0 = N0-I0\n",
    "R0 = 0  # Initial recovered size"
   ]
  },
  {
   "cell_type": "code",
   "execution_count": null,
   "id": "8088d777",
   "metadata": {},
   "outputs": [],
   "source": [
    "I0"
   ]
  },
  {
   "cell_type": "code",
   "execution_count": null,
   "id": "d9f3e330",
   "metadata": {},
   "outputs": [],
   "source": [
    "def fit_odeint(x, beta, gamma):\n",
    "    return integrate.odeint(SIR_model, (S0, I0, R0), t_Spain, args=(beta, gamma))[:,1] # we only would like to get dI"
   ]
  },
  {
   "cell_type": "code",
   "execution_count": null,
   "id": "4fb98a77",
   "metadata": {},
   "outputs": [],
   "source": [
    "popt=[0.4, 0.1]\n",
    "fit_odeint(t_Spain, *popt)"
   ]
  },
  {
   "cell_type": "code",
   "execution_count": null,
   "id": "6f951551",
   "metadata": {},
   "outputs": [],
   "source": [
    "popt_Spain, pcov_Spain = optimize.curve_fit(fit_odeint, t_Spain, ydata_Spain)\n",
    "perr_Spain = np.sqrt(np.diag(pcov_Spain))"
   ]
  },
  {
   "cell_type": "code",
   "execution_count": null,
   "id": "4787e3e1",
   "metadata": {},
   "outputs": [],
   "source": [
    "print('standard deviation error: ', str(perr_Spain), 'start infect:', ydata_Spain[0])\n",
    "print('Optimal parameters: beta = ', popt_Spain[0], 'and gamma = ', popt_Spain[1])"
   ]
  },
  {
   "cell_type": "code",
   "execution_count": null,
   "id": "2fb393b8",
   "metadata": {},
   "outputs": [],
   "source": [
    "fitted_Spain = fit_odeint(t_Spain, *popt_Spain)"
   ]
  },
  {
   "cell_type": "code",
   "execution_count": null,
   "id": "62aa35bf",
   "metadata": {
    "scrolled": false
   },
   "outputs": [],
   "source": [
    "plt.semilogy(t_Spain, ydata_Spain, 'o',color='r')\n",
    "plt.semilogy(t_Spain, fitted_Spain, color='r')\n",
    "plt.title('Fit of SIR model for Spain cases')\n",
    "plt.ylabel('Population infected')\n",
    "plt.xlabel('Days')\n",
    "plt.show()\n",
    "print('Optimal parameters: beta = ', popt_Spain[0], 'and gamma = ', popt_Spain[1])\n",
    "print('Basic Reproduction Number R0: ',popt_Spain[0]/popt_Spain[1] )"
   ]
  },
  {
   "cell_type": "markdown",
   "id": "c66733fa",
   "metadata": {},
   "source": [
    "## Combining all SIR Data from 3 countries in one data frame"
   ]
  },
  {
   "cell_type": "code",
   "execution_count": null,
   "id": "679cc736",
   "metadata": {},
   "outputs": [],
   "source": [
    "SIR=pd.DataFrame(t_Germany)"
   ]
  },
  {
   "cell_type": "code",
   "execution_count": null,
   "id": "22a891cb",
   "metadata": {},
   "outputs": [],
   "source": [
    "SIR.rename(columns={0:'date'}, inplace=True)"
   ]
  },
  {
   "cell_type": "code",
   "execution_count": null,
   "id": "8052c4e7",
   "metadata": {},
   "outputs": [],
   "source": [
    "SIR['Germany_infected'], SIR['Germany_infected_fitted'] =pd.DataFrame(ydata_Germany), pd.DataFrame(fitted_Germany)"
   ]
  },
  {
   "cell_type": "code",
   "execution_count": null,
   "id": "9f22c15a",
   "metadata": {},
   "outputs": [],
   "source": [
    "SIR.head()"
   ]
  },
  {
   "cell_type": "code",
   "execution_count": null,
   "id": "0ed0b5e8",
   "metadata": {},
   "outputs": [],
   "source": [
    "SIR['India_infected'], SIR['India_infected_fitted'] =pd.DataFrame(ydata_India), pd.DataFrame(fitted_India)"
   ]
  },
  {
   "cell_type": "code",
   "execution_count": null,
   "id": "a2e59595",
   "metadata": {
    "scrolled": true
   },
   "outputs": [],
   "source": [
    "SIR.tail()"
   ]
  },
  {
   "cell_type": "code",
   "execution_count": null,
   "id": "d5f563e0",
   "metadata": {},
   "outputs": [],
   "source": [
    "SIR['Spain_infected'], SIR['Spain_infected_fitted'] =pd.DataFrame(ydata_Spain), pd.DataFrame(fitted_Spain)"
   ]
  },
  {
   "cell_type": "code",
   "execution_count": null,
   "id": "0d92eef3",
   "metadata": {},
   "outputs": [],
   "source": [
    "SIR.head()"
   ]
  },
  {
   "cell_type": "markdown",
   "id": "7bb86e2f",
   "metadata": {},
   "source": [
    "# Dashboard Preparation"
   ]
  },
  {
   "cell_type": "code",
   "execution_count": null,
   "id": "60c40807",
   "metadata": {},
   "outputs": [],
   "source": [
    "# country drop-down list\n",
    "country_select_list = []\n",
    "for each in country_list:\n",
    "    select = {'label':each, 'value':each+'_infected'}\n",
    "    country_select_list.append(select)"
   ]
  },
  {
   "cell_type": "code",
   "execution_count": null,
   "id": "c38e4c10",
   "metadata": {},
   "outputs": [],
   "source": [
    "country_select_list"
   ]
  },
  {
   "cell_type": "code",
   "execution_count": null,
   "id": "261058b9",
   "metadata": {},
   "outputs": [],
   "source": [
    "import dash\n",
    "import dash_core_components as dcc\n",
    "import dash_html_components as html\n",
    "\n",
    "fig = go.Figure()\n",
    "app = dash.Dash()\n",
    "\n",
    "app.layout = html.Div([\n",
    "    \n",
    "    dcc.Markdown('''\n",
    "    #  Enterprise Data Science - (COVID-19 Data SIR Model)\n",
    "    '''),\n",
    "\n",
    "\n",
    "\n",
    "    html.Label(children='Multi-Select Country for visualization'),\n",
    "    dcc.Dropdown(id='country_drop_down', options=country_select_list, multi=False, value=country_select_list[0]['value'], placeholder='Select the country here...'),\n",
    "    dcc.Graph(figure=fig, id='main_window_slope') # Output\n",
    "])"
   ]
  },
  {
   "cell_type": "code",
   "execution_count": null,
   "id": "74f18a5d",
   "metadata": {},
   "outputs": [],
   "source": [
    "from dash.dependencies import Input, Output\n",
    "\n",
    "@app.callback(\n",
    "    Output('main_window_slope', 'figure'),\n",
    "    [Input('country_drop_down', 'value')])\n",
    "def update_function(country_drop_down):\n",
    "    \n",
    "    traces = []\n",
    "    \n",
    "    traces.append(dict(x=SIR.index,\n",
    "                       y=SIR[country_drop_down],\n",
    "                         mode='markers',\n",
    "                         opacity=0.9,\n",
    "                         line_width=2,\n",
    "                         marker_size=4,\n",
    "                         name=country_drop_down))\n",
    "    traces.append(dict(x=SIR.index,\n",
    "                       y=SIR[country_drop_down+str('_fitted')],\n",
    "                         mode='lines',\n",
    "                         opacity=0.9,\n",
    "                         line_width=2,\n",
    "                         marker_size=4,\n",
    "                         name=country_drop_down+str('_fitted')))\n",
    "           \n",
    "\n",
    "    \n",
    "    return {\n",
    "            'data': traces,\n",
    "            'layout': dict(\n",
    "                width=1280,\n",
    "                height=720,\n",
    "                \n",
    "                xaxis={'title': 'Days',\n",
    "                        'tickangle':-45,\n",
    "                        'nticks':20,\n",
    "                       'tickfont':dict(size=14, color=\"#7f7f7f\"),\n",
    "                      },\n",
    "                \n",
    "                yaxis={'title': 'Infected Population',\n",
    "                    'type':\"linear\",\n",
    "                       'range':'[1.1,5.5]'}\n",
    "            )}\n",
    "\n",
    "    "
   ]
  },
  {
   "cell_type": "code",
   "execution_count": null,
   "id": "8aa35708",
   "metadata": {},
   "outputs": [],
   "source": [
    "app.run_server(debug=True, use_reloader=False)"
   ]
  },
  {
   "cell_type": "markdown",
   "id": "be1279ba",
   "metadata": {},
   "source": [
    "# End"
   ]
  }
 ],
 "metadata": {
  "kernelspec": {
   "display_name": "Python 3 (ipykernel)",
   "language": "python",
   "name": "python3"
  },
  "language_info": {
   "codemirror_mode": {
    "name": "ipython",
    "version": 3
   },
   "file_extension": ".py",
   "mimetype": "text/x-python",
   "name": "python",
   "nbconvert_exporter": "python",
   "pygments_lexer": "ipython3",
   "version": "3.10.0"
  }
 },
 "nbformat": 4,
 "nbformat_minor": 5
}
