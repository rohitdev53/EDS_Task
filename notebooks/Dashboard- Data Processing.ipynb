{
 "cells": [
  {
   "cell_type": "markdown",
   "id": "e07ec2ea",
   "metadata": {},
   "source": [
    "# Dashboard - Data Processing"
   ]
  },
  {
   "cell_type": "markdown",
   "id": "dc1a3833",
   "metadata": {},
   "source": [
    "## Name: Rohit Dev\n",
    "## Matrikel- Nr.- 411817"
   ]
  },
  {
   "cell_type": "markdown",
   "id": "3484aeb4",
   "metadata": {},
   "source": [
    "## Libraries Import"
   ]
  },
  {
   "cell_type": "code",
   "execution_count": null,
   "id": "7765dc4b",
   "metadata": {},
   "outputs": [],
   "source": [
    "import pandas as pd \n",
    "import numpy as np\n",
    "import matplotlib.pyplot as plt\n",
    "import matplotlib as mpl\n",
    "import seaborn as sns\n",
    "import missingno as msno\n",
    "import plotly.graph_objects as go\n",
    "from datetime import datetime"
   ]
  },
  {
   "cell_type": "code",
   "execution_count": null,
   "id": "4f02c4f0",
   "metadata": {},
   "outputs": [],
   "source": [
    "%matplotlib inline\n",
    "sns.set_style(\"dark\")\n",
    "mpl.rcParams['figure.figsize'] = (16,9)\n",
    "pd.set_option('display.max_rows', 500)"
   ]
  },
  {
   "cell_type": "markdown",
   "id": "c885b716",
   "metadata": {},
   "source": [
    "## Covid-Data imported from 'Our World in Data (OWID)' as csv file\n",
    "https://covid.ourworldindata.org/data/owid-covid-data.csv"
   ]
  },
  {
   "cell_type": "code",
   "execution_count": null,
   "id": "64170f4a",
   "metadata": {},
   "outputs": [],
   "source": [
    "# Reading the raw data from 'csv file' \n",
    "data_raw = pd.read_csv('../data/raw/owid-covid-data.csv')"
   ]
  },
  {
   "cell_type": "code",
   "execution_count": null,
   "id": "7baff918",
   "metadata": {},
   "outputs": [],
   "source": [
    "data_raw"
   ]
  },
  {
   "cell_type": "code",
   "execution_count": null,
   "id": "71e389ab",
   "metadata": {},
   "outputs": [],
   "source": [
    "data_raw.columns"
   ]
  },
  {
   "cell_type": "code",
   "execution_count": null,
   "id": "7fffb66b",
   "metadata": {},
   "outputs": [],
   "source": [
    "# Required data\n",
    "data_required = data_raw[['date', 'location','total_cases']]"
   ]
  },
  {
   "cell_type": "code",
   "execution_count": null,
   "id": "ac88e40d",
   "metadata": {},
   "outputs": [],
   "source": [
    "data_required.tail()"
   ]
  },
  {
   "cell_type": "code",
   "execution_count": null,
   "id": "54c529a6",
   "metadata": {},
   "outputs": [],
   "source": [
    "# Changing the column names\n",
    "data_required = data_required.rename(columns={'location':'country', 'total_cases':'corona_cases'})"
   ]
  },
  {
   "cell_type": "code",
   "execution_count": null,
   "id": "92bd81b3",
   "metadata": {},
   "outputs": [],
   "source": [
    "data_required.head()"
   ]
  },
  {
   "cell_type": "code",
   "execution_count": null,
   "id": "f0e25c03",
   "metadata": {},
   "outputs": [],
   "source": [
    "# Changing date data format\n",
    "date = data_required['date'][0]\n",
    "type(date)"
   ]
  },
  {
   "cell_type": "code",
   "execution_count": null,
   "id": "8af553f9",
   "metadata": {},
   "outputs": [],
   "source": [
    "date_idx = [datetime.strptime(each, '%Y-%m-%d') for each in data_required.date]"
   ]
  },
  {
   "cell_type": "code",
   "execution_count": null,
   "id": "76109113",
   "metadata": {},
   "outputs": [],
   "source": [
    "data_required['date'] = date_idx"
   ]
  },
  {
   "cell_type": "code",
   "execution_count": null,
   "id": "b0a02e4b",
   "metadata": {
    "scrolled": true
   },
   "outputs": [],
   "source": [
    "data_required.head()"
   ]
  },
  {
   "cell_type": "code",
   "execution_count": null,
   "id": "dc2a0558",
   "metadata": {},
   "outputs": [],
   "source": [
    "# Display data types of columns\n",
    "data_required.dtypes"
   ]
  },
  {
   "cell_type": "code",
   "execution_count": null,
   "id": "91ee6e99",
   "metadata": {},
   "outputs": [],
   "source": [
    "# Display countries list\n",
    "data_required['country'].unique()"
   ]
  },
  {
   "cell_type": "code",
   "execution_count": null,
   "id": "9f092ab6",
   "metadata": {},
   "outputs": [],
   "source": [
    "data_swd = data_required[data_required['country'] == 'Sweden']\n",
    "data_swd.tail()"
   ]
  },
  {
   "cell_type": "code",
   "execution_count": null,
   "id": "0754a505",
   "metadata": {},
   "outputs": [],
   "source": [
    "# Plot of the covid cases in Sweden over time\n",
    "fig, ax1 = plt.subplots(1,1)\n",
    "ax1.plot(data_swd['date'], (data_swd['corona_cases']), label='Sweden', color = 'b')\n",
    "\n",
    "ax1.set_yscale('linear')\n",
    "\n",
    "ax1.set_title('Covid cases over time', size = 16)\n",
    "ax1.set_xlabel('Date', size = 16)\n",
    "ax1.set_ylabel('Covid cases', size = 16)\n",
    "\n",
    "ax1.legend(loc='best', prop={'size':16})\n",
    "\n",
    "plt.grid()"
   ]
  },
  {
   "cell_type": "markdown",
   "id": "8afe215c",
   "metadata": {},
   "source": [
    "## Analysis of multiple countries"
   ]
  },
  {
   "cell_type": "code",
   "execution_count": null,
   "id": "0d3aa818",
   "metadata": {},
   "outputs": [],
   "source": [
    "# Creating the dataframe with date as index\n",
    "total_dates = pd.DataFrame(data_required['date'])"
   ]
  },
  {
   "cell_type": "code",
   "execution_count": null,
   "id": "cbfb471e",
   "metadata": {},
   "outputs": [],
   "source": [
    "dates_unique = total_dates['date'].unique()"
   ]
  },
  {
   "cell_type": "code",
   "execution_count": null,
   "id": "a4acc0da",
   "metadata": {},
   "outputs": [],
   "source": [
    "# Number of unique dates\n",
    "len(dates_unique)"
   ]
  },
  {
   "cell_type": "code",
   "execution_count": null,
   "id": "8d9b03c5",
   "metadata": {},
   "outputs": [],
   "source": [
    "df_dates = pd.DataFrame(dates_unique)"
   ]
  },
  {
   "cell_type": "code",
   "execution_count": null,
   "id": "932418da",
   "metadata": {},
   "outputs": [],
   "source": [
    "df_dates.rename(columns={0:'date'}, inplace=True)   # Renames the columns and save to df_dates"
   ]
  },
  {
   "cell_type": "code",
   "execution_count": null,
   "id": "6072263c",
   "metadata": {},
   "outputs": [],
   "source": [
    "df_dates.sort_values(by='date', inplace=True)"
   ]
  },
  {
   "cell_type": "code",
   "execution_count": null,
   "id": "87a4ddfe",
   "metadata": {},
   "outputs": [],
   "source": [
    "data_analysis = df_dates.set_index(['date'])"
   ]
  },
  {
   "cell_type": "code",
   "execution_count": null,
   "id": "c24e1f5c",
   "metadata": {},
   "outputs": [],
   "source": [
    "country_list = ['India', 'Germany', 'Spain']"
   ]
  },
  {
   "cell_type": "code",
   "execution_count": null,
   "id": "fb0c2b07",
   "metadata": {},
   "outputs": [],
   "source": [
    "country_list = data_required['country'].unique()"
   ]
  },
  {
   "cell_type": "code",
   "execution_count": null,
   "id": "75904248",
   "metadata": {},
   "outputs": [],
   "source": [
    "# Number of unique countries\n",
    "len(country_list)"
   ]
  },
  {
   "cell_type": "markdown",
   "id": "86a820e3",
   "metadata": {},
   "source": [
    "# Data Processing for Dashboard"
   ]
  },
  {
   "cell_type": "code",
   "execution_count": null,
   "id": "1fb8abd6",
   "metadata": {},
   "outputs": [],
   "source": [
    "# Recall raw data\n",
    "data_raw.head()"
   ]
  },
  {
   "cell_type": "markdown",
   "id": "858cf285",
   "metadata": {},
   "source": [
    "## Doubling Rate"
   ]
  },
  {
   "cell_type": "code",
   "execution_count": null,
   "id": "bff9832d",
   "metadata": {},
   "outputs": [],
   "source": [
    "from sklearn import linear_model\n",
    "reg = linear_model.LinearRegression(fit_intercept=True)\n",
    "\n",
    "def get_doubling_time_via_regression(in_array):\n",
    "    ''' Use a linear regression to approximate the doubling rate'''\n",
    "\n",
    "    y = np.array(in_array)\n",
    "    X = np.arange(-1,2).reshape(-1, 1)\n",
    "\n",
    "    assert len(in_array)==3\n",
    "    reg.fit(X,y)\n",
    "    intercept=reg.intercept_\n",
    "    slope=reg.coef_\n",
    "\n",
    "    return intercept/slope"
   ]
  },
  {
   "cell_type": "code",
   "execution_count": null,
   "id": "9202131e",
   "metadata": {},
   "outputs": [],
   "source": [
    "def rolling_reg(df_input,col='confirmed'):\n",
    "    ''' input has to be a data frame'''\n",
    "    ''' return is single series (mandatory for group by apply)'''\n",
    "    days_back=3\n",
    "    result=df_input[col].rolling(\n",
    "                window=days_back,\n",
    "                min_periods=days_back).apply(get_doubling_time_via_regression,raw=False)\n",
    "    return result"
   ]
  },
  {
   "cell_type": "code",
   "execution_count": null,
   "id": "0f068c6d",
   "metadata": {},
   "outputs": [],
   "source": [
    "# Calculating doubling rate\n",
    "pd_DR_result=data_raw[['location','total_cases']].groupby(['location']).apply(rolling_reg,'total_cases').reset_index()"
   ]
  },
  {
   "cell_type": "code",
   "execution_count": null,
   "id": "7b3e1965",
   "metadata": {
    "scrolled": false
   },
   "outputs": [],
   "source": [
    "pd_DR_result.tail()"
   ]
  },
  {
   "cell_type": "code",
   "execution_count": null,
   "id": "cd55ab40",
   "metadata": {
    "scrolled": false
   },
   "outputs": [],
   "source": [
    "# Changing name of the columns\n",
    "pd_DR_result=pd_DR_result.rename(columns={'total_cases':'confirmed_DR',\n",
    "                             'level_1':'index', 'location':'country'})\n",
    "pd_DR_result"
   ]
  },
  {
   "cell_type": "code",
   "execution_count": null,
   "id": "ddb5bb7b",
   "metadata": {
    "scrolled": true
   },
   "outputs": [],
   "source": [
    "# Data Frame for the confirmed covid cases only\n",
    "data_required=data_required.reset_index()"
   ]
  },
  {
   "cell_type": "code",
   "execution_count": null,
   "id": "e6b28b62",
   "metadata": {
    "scrolled": true
   },
   "outputs": [],
   "source": [
    "data_required = data_required.rename(columns={'corona_cases':'confirmed'})\n",
    "data_required.head()"
   ]
  },
  {
   "cell_type": "code",
   "execution_count": null,
   "id": "929b2547",
   "metadata": {},
   "outputs": [],
   "source": [
    "pd_DR_result.head()"
   ]
  },
  {
   "cell_type": "code",
   "execution_count": null,
   "id": "f0f0b3d8",
   "metadata": {},
   "outputs": [],
   "source": [
    "# Merging the data frames: confirmed covid cases dataframe & doubling rate dataframe\n",
    "pd_result_larg=pd.merge(data_required,pd_DR_result[['index','confirmed_DR']],on=['index'], how='left')"
   ]
  },
  {
   "cell_type": "code",
   "execution_count": null,
   "id": "d1d314ad",
   "metadata": {
    "scrolled": false
   },
   "outputs": [],
   "source": [
    "pd_result_larg"
   ]
  },
  {
   "cell_type": "code",
   "execution_count": null,
   "id": "20419067",
   "metadata": {
    "scrolled": false
   },
   "outputs": [],
   "source": [
    "pd_result_larg.head()"
   ]
  },
  {
   "cell_type": "markdown",
   "id": "be1ae9e4",
   "metadata": {},
   "source": [
    "## Filtering the data with groupby apply"
   ]
  },
  {
   "cell_type": "code",
   "execution_count": null,
   "id": "0b817cee",
   "metadata": {},
   "outputs": [],
   "source": [
    "from scipy import signal\n",
    "\n",
    "def savgol_filter(df_input,column='confirmed',window=5):\n",
    "    ''' Savgol Filter which can be used in groupby apply function \n",
    "        it ensures that the data structure is kept'''\n",
    "    window=5, \n",
    "    degree=1\n",
    "    df_result=df_input\n",
    "    \n",
    "    filter_in=df_input[column].fillna(0) # attention with the neutral element here\n",
    "    \n",
    "    result=signal.savgol_filter(np.array(filter_in),\n",
    "                           5, # window size used for filtering\n",
    "                           1)\n",
    "    df_result[column+'_filtered']=result\n",
    "    return df_result\n",
    "        "
   ]
  },
  {
   "cell_type": "code",
   "execution_count": null,
   "id": "818926bf",
   "metadata": {},
   "outputs": [],
   "source": [
    "data_required.tail()"
   ]
  },
  {
   "cell_type": "code",
   "execution_count": null,
   "id": "bb89f0a3",
   "metadata": {},
   "outputs": [],
   "source": [
    "data_required[\"state\"]=\"none\""
   ]
  },
  {
   "cell_type": "code",
   "execution_count": null,
   "id": "c9fe4b66",
   "metadata": {
    "scrolled": true
   },
   "outputs": [],
   "source": [
    "data_required.dtypes"
   ]
  },
  {
   "cell_type": "code",
   "execution_count": null,
   "id": "082b4734",
   "metadata": {},
   "outputs": [],
   "source": [
    "# Data Type change of Column 'confirmed' from float64 to int64...this has been done to run 'Savitzky–Golay filter' function\n",
    "\n",
    "data_required[data_required['confirmed'].isnull()]\n",
    "data_required['confirmed'] = pd.to_numeric(data_required['confirmed'], errors='coerce')\n",
    "data_required = data_required.dropna(subset=['confirmed'])\n",
    "data_required['confirmed'] = data_required['confirmed'].apply(np.int64)\n",
    "data_required.dtypes"
   ]
  },
  {
   "cell_type": "markdown",
   "id": "18816605",
   "metadata": {},
   "source": [
    "## Filtered confirmed covid cases"
   ]
  },
  {
   "cell_type": "code",
   "execution_count": null,
   "id": "90e37dc9",
   "metadata": {
    "scrolled": true
   },
   "outputs": [],
   "source": [
    "pd_filtered_result=data_required[['country','confirmed']].groupby(['country']).apply(savgol_filter).reset_index()"
   ]
  },
  {
   "cell_type": "code",
   "execution_count": null,
   "id": "56a39fba",
   "metadata": {
    "scrolled": true
   },
   "outputs": [],
   "source": [
    "# Merging the filtered confired covid cases\n",
    "pd_result_larg=pd.merge(pd_result_larg,pd_filtered_result[['index','confirmed_filtered']],on=['index'],how='left')\n",
    "pd_result_larg.head()"
   ]
  },
  {
   "cell_type": "markdown",
   "id": "ec2bfea7",
   "metadata": {},
   "source": [
    "## Filtered doubling rate"
   ]
  },
  {
   "cell_type": "code",
   "execution_count": null,
   "id": "7e446284",
   "metadata": {
    "scrolled": true
   },
   "outputs": [],
   "source": [
    "pd_filtered_doubling=pd_result_larg[['country','confirmed_filtered']].groupby(['country']).apply(rolling_reg,'confirmed_filtered').reset_index()\n",
    "\n",
    "pd_filtered_doubling=pd_filtered_doubling.rename(columns={'confirmed_filtered':'confirmed_filtered_DR',\n",
    "                             'level_1':'index'})"
   ]
  },
  {
   "cell_type": "code",
   "execution_count": null,
   "id": "3e324769",
   "metadata": {},
   "outputs": [],
   "source": [
    "pd_filtered_doubling.tail()"
   ]
  },
  {
   "cell_type": "code",
   "execution_count": null,
   "id": "94ac34de",
   "metadata": {},
   "outputs": [],
   "source": [
    "# Merging the final filetered doubling rate \n",
    "pd_result_larg=pd.merge(pd_result_larg,pd_filtered_doubling[['index','confirmed_filtered_DR']],on=['index'],how='left')\n",
    "pd_result_larg.tail()"
   ]
  },
  {
   "cell_type": "code",
   "execution_count": null,
   "id": "f6c495de",
   "metadata": {},
   "outputs": [],
   "source": [
    "mask=pd_result_larg['confirmed']>100\n",
    "pd_result_larg['confirmed_filtered_DR']=pd_result_larg['confirmed_filtered_DR'].where(mask, other=np.NaN) \n"
   ]
  },
  {
   "cell_type": "code",
   "execution_count": null,
   "id": "ac43ec0f",
   "metadata": {},
   "outputs": [],
   "source": [
    "# Exporting the processed data file\n",
    "pd_result_larg.to_csv('../data/processed/Dashboard_final_set.csv',sep=';',index=False)"
   ]
  },
  {
   "cell_type": "markdown",
   "id": "91eab5de",
   "metadata": {},
   "source": [
    "# End"
   ]
  }
 ],
 "metadata": {
  "kernelspec": {
   "display_name": "Python 3 (ipykernel)",
   "language": "python",
   "name": "python3"
  },
  "language_info": {
   "codemirror_mode": {
    "name": "ipython",
    "version": 3
   },
   "file_extension": ".py",
   "mimetype": "text/x-python",
   "name": "python",
   "nbconvert_exporter": "python",
   "pygments_lexer": "ipython3",
   "version": "3.10.0"
  }
 },
 "nbformat": 4,
 "nbformat_minor": 5
}
